{
 "cells": [
  {
   "cell_type": "markdown",
   "id": "d4700989",
   "metadata": {},
   "source": [
    "**Write a code to implement Guess Game Guess Game\n",
    "constraints / Rules\n",
    "you have 5 chance to guess correct number which is choosen by computer / friend\n",
    "Range which is allowed to select a number 1-50\n",
    "After each guess you should give some tips / hints to user to improve their chance of winning\n",
    "for example if user guess a number which is higher than actual number you should say \n",
    "`hint: think a low number!\n",
    "if user guess a number which is lower than actual number you should say `hint: think a big number!`\n",
    "      if user wins we will show a congrats messege and stop our game\n",
    "      if any time user guess is out of limit than print a warning message saying Think in Limits 1-50 only!\n",
    "      but we do not count this as a chance**"
   ]
  },
  {
   "cell_type": "code",
   "execution_count": 1,
   "id": "33c35625",
   "metadata": {},
   "outputs": [
    {
     "name": "stdout",
     "output_type": "stream",
     "text": [
      "Enter your number:5\n",
      "Think a big number!\n",
      "Enter your number:40\n",
      "Think a big number!\n",
      "Enter your number:90\n",
      "Think a low number!\n",
      "Enter your number:50\n",
      "Think a low number!\n",
      "Enter your number:35\n",
      "Think a big number!\n",
      "Oops you lose:(\n",
      "The number was 49! \n"
     ]
    }
   ],
   "source": [
    "import random\n",
    "random_number=random.randint(1,50)\n",
    "for i in range(5):\n",
    "    x=int(input(\"Enter your number:\"))\n",
    "    if(x<random_number):\n",
    "        print(\"Think a big number!\")\n",
    "    elif(x>random_number):\n",
    "        print(\"Think a low number!\")\n",
    "    elif(x==random_number):\n",
    "        print(\"Congrats you won!\")\n",
    "        break\n",
    "    else:\n",
    "        print(\"Think in Limits 1-50 only!\")\n",
    "        continue\n",
    "else:\n",
    "    print(\"Oops you lose:(\")\n",
    "    print(f\"The number was {random_number}! \")"
   ]
  },
  {
   "cell_type": "markdown",
   "id": "d2d0d42a",
   "metadata": {},
   "source": [
    "**You are given three integers x, y and z and  representing the dimensions of a cuboid along with an integer n . Print a list of all possible coordinates given by (i,j,k) on a 3D grid where the sum of i+j+k is not equal to n. Here, 0<=i<=x, 0<=j<=y and 0<=k<=z. Please use list comprehensions rather than multiple loops, as a learning exercise.**"
   ]
  },
  {
   "cell_type": "code",
   "execution_count": 3,
   "id": "989ad262",
   "metadata": {},
   "outputs": [
    {
     "name": "stdout",
     "output_type": "stream",
     "text": [
      "Enter the valueof x:1\n",
      "Enter the valueof y:1\n",
      "Enter the valueof z:1\n",
      "Enter the valueof n:2\n",
      "The possible coordinates are-\n",
      "[0, 0, 0]\n",
      "[0, 0, 1]\n",
      "[0, 1, 0]\n",
      "[1, 0, 0]\n",
      "[1, 1, 1]\n"
     ]
    }
   ],
   "source": [
    "x = int(input(\"Enter the valueof x:\"))\n",
    "y = int(input(\"Enter the valueof y:\"))\n",
    "z = int(input(\"Enter the valueof z:\"))\n",
    "n = int(input(\"Enter the valueof n:\"))\n",
    "print(\"The possible coordinates are-\")\n",
    "for i in range(x+1):\n",
    "    for j in range(y+1):\n",
    "        for k in range(z+1):\n",
    "            if(i+j+k!=n):\n",
    "                print([i,j,k])"
   ]
  },
  {
   "cell_type": "markdown",
   "id": "cfb77d0a",
   "metadata": {},
   "source": [
    "**Consider a list (list = []). You can perform the following commands:**\n",
    "\n",
    "insert i e: Insert integer e at position i.\n",
    "\n",
    "print: Print the list.\n",
    "\n",
    "remove e: Delete the first occurrence of integer e.\n",
    "\n",
    "append e: Insert integer e at the end of the list.\n",
    "\n",
    "sort: Sort the list.\n",
    "\n",
    "pop: Pop the last element from the list.\n",
    "\n",
    "reverse: Reverse the list.\n",
    "\n",
    "**Initialize your list and read in the value of  followed by  lines of commands where each command will be of the  types listed above. Iterate through each command in order and perform the corresponding operation on your list.**"
   ]
  },
  {
   "cell_type": "code",
   "execution_count": 1,
   "id": "645b5ab1",
   "metadata": {},
   "outputs": [
    {
     "name": "stdout",
     "output_type": "stream",
     "text": [
      "Enter the number of lines to be executed:4\n",
      "append 1\n",
      "append 2\n",
      "insert 2 3\n",
      "print\n",
      "['1', '2', '3']\n"
     ]
    }
   ],
   "source": [
    "l = []\n",
    "n = int(input(\"Enter the number of lines to be executed:\"))\n",
    "for i in range(n):\n",
    "    iteration=input().split()\n",
    "    if iteration[0] == \"insert\":\n",
    "        l.insert(int(iteration[1]),iteration[2])\n",
    "    elif iteration[0] == \"print\":\n",
    "        print(l)\n",
    "    elif iteration[0] == \"remove\":\n",
    "        l.remove(iteration[1])\n",
    "    elif iteration[0] == \"append\":\n",
    "        l.append(iteration[1])\n",
    "    elif iteration[0] == \"sort\":\n",
    "        l.sort()\n",
    "    elif iteration[0] == \"pop\":\n",
    "        l.pop()\n",
    "    else:\n",
    "        l.reverse()"
   ]
  },
  {
   "cell_type": "markdown",
   "id": "2caa2c60",
   "metadata": {},
   "source": [
    "**The provided code stub will read in a dictionary containing key/value pairs of name:[marks] for a list of students. Print the average of the marks array for the student name provided, showing 2 places after the decimal.**"
   ]
  },
  {
   "cell_type": "code",
   "execution_count": 3,
   "id": "6c431acf",
   "metadata": {},
   "outputs": [
    {
     "name": "stdout",
     "output_type": "stream",
     "text": [
      "abc\n",
      "55 55 55\n",
      "xyz\n",
      "66 66 66\n",
      "pqr\n",
      "77 77 77\n",
      "{'abc': ['55', '55', '55'], 'xyz': ['66', '66', '66'], 'pqr': ['77', '77', '77']}\n",
      " abc\n",
      "55.0\n"
     ]
    }
   ],
   "source": [
    "l= {}\n",
    "for i in range(3):\n",
    "    name=input(\"\")\n",
    "    marks = input().split(\" \")\n",
    "    l[name] = marks\n",
    "print(l)\n",
    "name = input(\" \")\n",
    "if name in l:\n",
    "    marks = l[name]\n",
    "    average = sum(map(int,marks))/len(marks)       \n",
    "    print(f\"{average}\")\n",
    "else:\n",
    "    print(\"Student does not exist!\")"
   ]
  },
  {
   "cell_type": "markdown",
   "id": "e1865efb",
   "metadata": {},
   "source": [
    "**Write a program to sort a list without using inbuilt functions (list.sort not allowed)**"
   ]
  },
  {
   "cell_type": "markdown",
   "id": "fde45102",
   "metadata": {},
   "source": [
    "`Bubble Sort`"
   ]
  },
  {
   "cell_type": "code",
   "execution_count": 16,
   "id": "b9569897",
   "metadata": {},
   "outputs": [
    {
     "name": "stdout",
     "output_type": "stream",
     "text": [
      "Enter the number of elements:5\n",
      "45 \n",
      "56\n",
      "12\n",
      "90\n",
      "30\n",
      "The sorted list is-\n",
      "[12, 30, 45, 56, 90]\n"
     ]
    }
   ],
   "source": [
    "n = int(input(\"Enter the number of elements:\"))\n",
    "l = []\n",
    "\n",
    "for i in range(0,n):\n",
    "    element=int(input(\"\"))\n",
    "    l.append(element)\n",
    "print(\"The sorted list is-\")\n",
    "for i in range(n-1):\n",
    "    for j in range(n-i-1):\n",
    "        if (l[j+1]<l[j]):\n",
    "            temp = int(l[j+1])\n",
    "            l[j+1] = l[j]\n",
    "            l[j] = temp\n",
    "print(l)"
   ]
  },
  {
   "cell_type": "markdown",
   "id": "e4480cb5",
   "metadata": {},
   "source": [
    "`Insertion Sort`"
   ]
  },
  {
   "cell_type": "code",
   "execution_count": 12,
   "id": "6b8e0cee",
   "metadata": {},
   "outputs": [
    {
     "name": "stdout",
     "output_type": "stream",
     "text": [
      "Enter the number of elements:5\n",
      " 3\n",
      " 5\n",
      " 1\n",
      " 4\n",
      " 6\n",
      "['1', '3', '4', '5', '6']\n"
     ]
    }
   ],
   "source": [
    "l = []\n",
    "n = int(input(\"Enter the number of elements:\"))\n",
    "for i in range(n):\n",
    "    num = input(\" \")\n",
    "    l.append(num)\n",
    "for i in range(1,n):\n",
    "    temp = l[i]\n",
    "    j = int(i-1)\n",
    "    while(j>=0 and int(l[j])>int(temp)):\n",
    "        l[j+1] = l[j]\n",
    "        j= j-1\n",
    "    l[j+1]=temp\n",
    "print(l)"
   ]
  },
  {
   "cell_type": "markdown",
   "id": "c1a0b3c0",
   "metadata": {},
   "source": [
    "`Selection Sort`"
   ]
  },
  {
   "cell_type": "code",
   "execution_count": 25,
   "id": "50628723",
   "metadata": {},
   "outputs": [
    {
     "name": "stdout",
     "output_type": "stream",
     "text": [
      "Enter the number of values:5\n",
      "Enter the value[1]:4\n",
      "Enter the value[2]:5\n",
      "Enter the value[3]:6\n",
      "Enter the value[4]:2\n",
      "Enter the value[5]:1\n",
      "[1, 2, 4, 5, 6]\n"
     ]
    }
   ],
   "source": [
    "l = []\n",
    "n = int(input(\"Enter the number of values:\"))\n",
    "for i in range(n):\n",
    "    num = int(input(f\"Enter the value[{i+1}]:\"))\n",
    "    l.append(num)\n",
    "for i in range(n):\n",
    "    mini = i\n",
    "    for j in range(i+1,n):\n",
    "        if(l[j]<l[mini]):\n",
    "            temp = l[j]\n",
    "            l[j] = l[mini]\n",
    "            l[mini] = temp\n",
    "print(l)"
   ]
  }
 ],
 "metadata": {
  "kernelspec": {
   "display_name": "Python 3 (ipykernel)",
   "language": "python",
   "name": "python3"
  },
  "language_info": {
   "codemirror_mode": {
    "name": "ipython",
    "version": 3
   },
   "file_extension": ".py",
   "mimetype": "text/x-python",
   "name": "python",
   "nbconvert_exporter": "python",
   "pygments_lexer": "ipython3",
   "version": "3.10.9"
  }
 },
 "nbformat": 4,
 "nbformat_minor": 5
}
