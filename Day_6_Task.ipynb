{
 "cells": [
  {
   "cell_type": "markdown",
   "id": "2398fa26",
   "metadata": {},
   "source": [
    "**Write down 10 projects ideas you want to implement using python**"
   ]
  },
  {
   "cell_type": "markdown",
   "id": "d888f18a",
   "metadata": {},
   "source": [
    "Some project ideas which can be implemented using python are:\n",
    "\n",
    "1. Weather Predicting device\n",
    "\n",
    "2. Calculator for mathematical equations and operations\n",
    "\n",
    "3. Movie reccommendation system based on the user's previous choices\n",
    "\n",
    "4. Calculator to calculate BMI of a person and suggesting their consumption of calories per day accordingly\n",
    "\n",
    "5. Recipe reccommendation system based on the ingredients mentioned by the user\n",
    "\n",
    "6. Face and fingerprint detection sysytem to take attendance of the employees/students of an instituition\n",
    "\n",
    "7. Music listening platform which reccommends songs based on the user's preference including a \"listen-together\" feature\n",
    "\n",
    "8. Water reminder to remind the user to drink water in a gap of a specific period throughout the day\n",
    "\n",
    "9. Cricket analysis application to analize a match after its completion and to give statistical data which calculates the missed oppurtunities and the game changing moments/decisions of the match\n",
    "\n",
    "10. Application to improve mental health by chatting with therapists and playing mind-relaxing mini-games"
   ]
  },
  {
   "cell_type": "markdown",
   "id": "d7cb513d",
   "metadata": {},
   "source": [
    "**Create at list of 5 objects using a list and dictionary, it will be good if you store realistic data**"
   ]
  },
  {
   "cell_type": "code",
   "execution_count": 1,
   "id": "59cd1ed5",
   "metadata": {},
   "outputs": [
    {
     "name": "stdout",
     "output_type": "stream",
     "text": [
      "['Bread',\n",
      " 'Eggs',\n",
      " 'Milk',\n",
      " 'Sugar',\n",
      " 'Oats',\n",
      " 'Quinoa',\n",
      " 'Coffee Powder',\n",
      " 'Noodles',\n",
      " 'Ketchup']\n"
     ]
    }
   ],
   "source": [
    "shopping_list = [\"Bread\", \"Eggs\", \"Milk\", \"Sugar\", \"Oats\", \"Quinoa\", \"Coffee Powder\", \"Noodles\", \"Ketchup\"]\n",
    "from pprint import pprint\n",
    "pprint(shopping_list)"
   ]
  },
  {
   "cell_type": "code",
   "execution_count": 6,
   "id": "bc3982b2",
   "metadata": {},
   "outputs": [
    {
     "name": "stdout",
     "output_type": "stream",
     "text": [
      "{'All_rounder_fast': 'Hardik Pandya',\n",
      " 'All_rounder_spin': 'Ravindra Jadeja',\n",
      " 'Middle_1': 'Virat Kohli',\n",
      " 'Middle_2': 'KL Rahul',\n",
      " 'Middle_3': 'Rishabh Pant',\n",
      " 'Middle_4': 'MS Dhoni',\n",
      " 'Opener_1': 'Rohit Sharma',\n",
      " 'Opener_2': 'Shikhar Dhawan',\n",
      " 'Pacer_1': 'Bhuvneswar Kumar',\n",
      " 'Pacer_2': 'Jasprit Bumrah',\n",
      " 'Spin_1': 'Yuzvendra Chahal'}\n"
     ]
    }
   ],
   "source": [
    "batting_order = {\n",
    "    \"Opener_1\" : \"Rohit Sharma\",\n",
    "    \"Opener_2\" : \"Shikhar Dhawan\",\n",
    "    \"Middle_1\" : \"Virat Kohli\",\n",
    "    \"Middle_2\" : \"KL Rahul\",\n",
    "    \"Middle_3\" : \"Rishabh Pant\",\n",
    "    \"Middle_4\" : \"MS Dhoni\",\n",
    "    \"All_rounder_fast\" : \"Hardik Pandya\",\n",
    "    \"All_rounder_spin\" : \"Ravindra Jadeja\",\n",
    "    \"Pacer_1\" : \"Bhuvneswar Kumar\",\n",
    "    \"Spin_1\" : \"Yuzvendra Chahal\",\n",
    "    \"Pacer_2\" : \"Jasprit Bumrah\"\n",
    "}\n",
    "pprint(batting_order)"
   ]
  },
  {
   "cell_type": "markdown",
   "id": "f7ffb047",
   "metadata": {},
   "source": [
    "**What is duck typing in python, what are Dunder or special methods?**"
   ]
  },
  {
   "cell_type": "markdown",
   "id": "e3d05cf2",
   "metadata": {},
   "source": [
    "`Duck Typing`\n",
    "\n",
    "Duck typing is the use of different function but with same methods. "
   ]
  },
  {
   "cell_type": "code",
   "execution_count": 1,
   "id": "2399a36e",
   "metadata": {},
   "outputs": [
    {
     "name": "stdout",
     "output_type": "stream",
     "text": [
      "It walks\n",
      "It walks\n"
     ]
    }
   ],
   "source": [
    "class Chicken:\n",
    "    def walk(self):\n",
    "        print(\"It walks\")\n",
    "\n",
    "    def sound(self):\n",
    "        print(\"It clucks\")\n",
    "\n",
    "\n",
    "class Duck:\n",
    "    def walk(self):\n",
    "        print(\"It walks\")\n",
    "\n",
    "    def sound(self):\n",
    "        print(\"It quacks\")\n",
    "chicken_instance = Chicken()\n",
    "chicken_instance.walk()\n",
    "duck_instance = Duck()\n",
    "duck_instance.walk()"
   ]
  },
  {
   "cell_type": "markdown",
   "id": "65992a77",
   "metadata": {},
   "source": [
    "`Dunder or special methods` \n",
    "\n",
    "They are methods with double underscore before and after the names and perform special operations. Users do not dirctly call them using the underscore method but use them with a reference \n",
    "\n",
    "Eg - To concatenate two string we use the '+' opearators which indirectly calls the __add__ method to concate them."
   ]
  },
  {
   "cell_type": "markdown",
   "id": "52767a53",
   "metadata": {},
   "source": [
    "**What are operators? How many types of operators are there in python?**"
   ]
  },
  {
   "cell_type": "markdown",
   "id": "33448120",
   "metadata": {},
   "source": [
    "Operators in Python, are used to perform various operations in python and are the backbone of it. Without them, no calculation or computation can be performed in the program. They are used to perform operations on variables and display the desired output for the user.\n",
    "\n",
    "Broadly, there are 6 types of operators in Python, namely:\n",
    "\n",
    "1. Arithmetic Operators - To perform arithmetic operations between two numbers. Includes +, -, *, /, etc.\n",
    "\n",
    "2. Assignment Operators - To assign values to a variable. Includes =, +=, -+, *=, etc.\n",
    "\n",
    "3. Comparision Operators - To compare two values. Includes, >, <, <=, >=, ==, etc.\n",
    "\n",
    "4. Bitwise Operators - To perform operations on single integer or bit. Includes &, |, etc.\n",
    "\n",
    "5. Logical Operators - To perform logical operations on Boolean values, Includes and, or and not.\n",
    "\n",
    "6. Unary operators - To perform operation on a single value.\n",
    "\n",
    "Other than these there are also other types of operators like-\n",
    "\n",
    "- Membership Operators - They are used to check whether a value is a member of a group of values or not. Includes 'in' and 'not in'\n",
    "\n",
    "- Identity Operators - They are used to check the identity of a value in camparison with another value. Includes 'is' and 'is not'."
   ]
  }
 ],
 "metadata": {
  "kernelspec": {
   "display_name": "Python 3 (ipykernel)",
   "language": "python",
   "name": "python3"
  },
  "language_info": {
   "codemirror_mode": {
    "name": "ipython",
    "version": 3
   },
   "file_extension": ".py",
   "mimetype": "text/x-python",
   "name": "python",
   "nbconvert_exporter": "python",
   "pygments_lexer": "ipython3",
   "version": "3.10.9"
  }
 },
 "nbformat": 4,
 "nbformat_minor": 5
}
