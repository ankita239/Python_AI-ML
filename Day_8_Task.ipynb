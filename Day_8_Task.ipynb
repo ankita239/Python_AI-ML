{
 "cells": [
  {
   "cell_type": "markdown",
   "id": "f6ef8437",
   "metadata": {},
   "source": [
    "**What are the two values of the Boolean data type? How do you write them?**"
   ]
  },
  {
   "cell_type": "markdown",
   "id": "b328de0f",
   "metadata": {},
   "source": [
    "The two values of the Boolean data type are- true and false. The output is true when a condition is satified whereas false when the condition is not satisfied. In binary form whereas, the value of true is 1 and the value of false is 0. They are written as True and False in python and these keywords are reserved in the library. \n",
    "\n",
    "Eg:"
   ]
  },
  {
   "cell_type": "code",
   "execution_count": 5,
   "id": "2d216c92",
   "metadata": {},
   "outputs": [
    {
     "name": "stdout",
     "output_type": "stream",
     "text": [
      "False\n",
      "True\n"
     ]
    }
   ],
   "source": [
    "x = '5'\n",
    "y = '3'\n",
    "print(x.isalpha())\n",
    "print(y.isdigit())"
   ]
  },
  {
   "cell_type": "markdown",
   "id": "b4d31808",
   "metadata": {},
   "source": [
    "**What are the three Boolean operators?**"
   ]
  },
  {
   "cell_type": "markdown",
   "id": "de793d4a",
   "metadata": {},
   "source": [
    "There are 3 Boolean Operators- and, or and not. \n",
    "\n",
    "1. `and` returns True only when both the conditions metioned are true"
   ]
  },
  {
   "cell_type": "code",
   "execution_count": 8,
   "id": "a945101b",
   "metadata": {},
   "outputs": [
    {
     "name": "stdout",
     "output_type": "stream",
     "text": [
      "yes\n"
     ]
    }
   ],
   "source": [
    "if (1<2 and 2<3):\n",
    "    print(\"yes\")\n",
    "else:\n",
    "    print(\"no\")"
   ]
  },
  {
   "cell_type": "markdown",
   "id": "17498bcc",
   "metadata": {},
   "source": [
    "2. `or` returns True when any one or both the conditions are true"
   ]
  },
  {
   "cell_type": "code",
   "execution_count": 10,
   "id": "86618569",
   "metadata": {},
   "outputs": [
    {
     "name": "stdout",
     "output_type": "stream",
     "text": [
      "yes\n"
     ]
    }
   ],
   "source": [
    "if (1>2 or 2<3):\n",
    "    print(\"yes\")\n",
    "else:\n",
    "    print(\"no\")"
   ]
  },
  {
   "cell_type": "markdown",
   "id": "862d186a",
   "metadata": {},
   "source": [
    "3. `not` is used to alter a value of true to false or false to true"
   ]
  },
  {
   "cell_type": "code",
   "execution_count": 12,
   "id": "36ed6eb4",
   "metadata": {},
   "outputs": [
    {
     "name": "stdout",
     "output_type": "stream",
     "text": [
      "False\n",
      "True\n"
     ]
    }
   ],
   "source": [
    "print(1>2)\n",
    "print(not(1>2))"
   ]
  },
  {
   "cell_type": "markdown",
   "id": "24c6b8a9",
   "metadata": {},
   "source": [
    "**Write out the truth tables of each Boolean operator (that is, every possible combination of Boolean values for the operator and what they evaluate to).**"
   ]
  },
  {
   "cell_type": "markdown",
   "id": "96df3d88",
   "metadata": {},
   "source": [
    "`Truth table for 'and'`\n",
    "\n",
    "True and True - True\n",
    "\n",
    "False and True - False\n",
    "\n",
    "True and False - False\n",
    "\n",
    "False and False - False\n",
    "\n",
    "`Truth table for 'or'`\n",
    "\n",
    "True and True - True\n",
    "\n",
    "True and False - True\n",
    "\n",
    "False and True - True\n",
    "\n",
    "False and False - False\n",
    "\n",
    "`Truth tabele for 'not'`\n",
    "\n",
    "True - False\n",
    "\n",
    "False - True"
   ]
  },
  {
   "cell_type": "markdown",
   "id": "d4f2b8db",
   "metadata": {},
   "source": [
    "**What do the following expressions evaluate to?**"
   ]
  },
  {
   "cell_type": "markdown",
   "id": "e0a3e224",
   "metadata": {},
   "source": [
    "(5 > 4) and (3 == 5) - False\n",
    "\n",
    "not (5 > 4) - False\n",
    "\n",
    "(5 > 4) or (3 == 5) - True\n",
    "\n",
    "not ((5 > 4) or (3 == 5))- False\n",
    "\n",
    "(True and True) and (True == False) - False\n",
    "\n",
    "(not False) or (not True) - True"
   ]
  },
  {
   "cell_type": "code",
   "execution_count": 13,
   "id": "870b313d",
   "metadata": {},
   "outputs": [
    {
     "name": "stdout",
     "output_type": "stream",
     "text": [
      "False\n",
      "False\n",
      "True\n",
      "False\n",
      "False\n",
      "True\n"
     ]
    }
   ],
   "source": [
    "print((5 > 4) and (3 == 5))\n",
    "print(not (5 > 4))\n",
    "print((5 > 4) or (3 == 5))\n",
    "print(not ((5 > 4) or (3 == 5)))\n",
    "print((True and True) and (True == False))\n",
    "print((not False) or (not True))"
   ]
  },
  {
   "cell_type": "markdown",
   "id": "aed47d2a",
   "metadata": {},
   "source": [
    "**What are the six comparison operators?**"
   ]
  },
  {
   "cell_type": "markdown",
   "id": "031c1187",
   "metadata": {},
   "source": [
    "There are six types of comparison operators-\n",
    "\n",
    "`>` - greater than\n",
    "\n",
    "`<` - less than\n",
    "\n",
    "`==` - equals to\n",
    "\n",
    "`!=` - not equals to\n",
    "\n",
    "`>=` - greater than or equals to\n",
    "\n",
    "`<=` - less than or equals to"
   ]
  },
  {
   "cell_type": "markdown",
   "id": "1e504181",
   "metadata": {},
   "source": [
    "**What is the difference between the equal to operator and the assignment operator?**"
   ]
  },
  {
   "cell_type": "markdown",
   "id": "f4f47206",
   "metadata": {},
   "source": [
    "The assignment operator/single equal to(=) is used to assign a value to a certain variable. It is an assignment operator which declares a variable as a certain value and doesn't returns an output, whereas the equal to operator/double equals to(==) is a comparison operator which is used to compare two values and based on the result returns true or false."
   ]
  },
  {
   "cell_type": "code",
   "execution_count": 15,
   "id": "70b8117c",
   "metadata": {},
   "outputs": [
    {
     "name": "stdout",
     "output_type": "stream",
     "text": [
      "5 6\n",
      "False\n"
     ]
    }
   ],
   "source": [
    "x = 5 #The value of x has been assigned as 5\n",
    "y=6 #the value of y has been assigned as 6\n",
    "\n",
    "print(x,y)\n",
    "\n",
    "print(x==y) # the values of x and y are compared"
   ]
  },
  {
   "cell_type": "markdown",
   "id": "0f4e277b",
   "metadata": {},
   "source": [
    "**Explain what a condition is and where you would use one.**"
   ]
  },
  {
   "cell_type": "markdown",
   "id": "3174643f",
   "metadata": {},
   "source": [
    "A condition is a statement which might be true or false depending on the scenario during the execution of the program.\n",
    "A condition is used when we have to execute different statements and operations are to be executed with diffrent conditions and if the condition is satisfies for a block of code, it will be exectuted or else it will be skipped."
   ]
  },
  {
   "cell_type": "code",
   "execution_count": 17,
   "id": "34bb98ab",
   "metadata": {},
   "outputs": [
    {
     "name": "stdout",
     "output_type": "stream",
     "text": [
      "You are eligible to vote\n"
     ]
    }
   ],
   "source": [
    "age = 23\n",
    "if (age>=18):\n",
    "    print(\"You are eligible to vote\")\n",
    "else:\n",
    "    print(\"You are not eligible to vote\")"
   ]
  }
 ],
 "metadata": {
  "kernelspec": {
   "display_name": "Python 3 (ipykernel)",
   "language": "python",
   "name": "python3"
  },
  "language_info": {
   "codemirror_mode": {
    "name": "ipython",
    "version": 3
   },
   "file_extension": ".py",
   "mimetype": "text/x-python",
   "name": "python",
   "nbconvert_exporter": "python",
   "pygments_lexer": "ipython3",
   "version": "3.10.9"
  }
 },
 "nbformat": 4,
 "nbformat_minor": 5
}
