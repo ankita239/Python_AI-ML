{
 "cells": [
  {
   "cell_type": "markdown",
   "id": "88107bb1",
   "metadata": {},
   "source": [
    "**Explore split, strip, replace, center, title methods of string data type in python**"
   ]
  },
  {
   "cell_type": "code",
   "execution_count": 2,
   "id": "c82b2dbf",
   "metadata": {},
   "outputs": [
    {
     "name": "stdout",
     "output_type": "stream",
     "text": [
      "Help on method_descriptor:\n",
      "\n",
      "split(self, /, sep=None, maxsplit=-1)\n",
      "    Return a list of the substrings in the string, using sep as the separator string.\n",
      "    \n",
      "      sep\n",
      "        The separator used to split the string.\n",
      "    \n",
      "        When set to None (the default value), will split on any whitespace\n",
      "        character (including \\\\n \\\\r \\\\t \\\\f and spaces) and will discard\n",
      "        empty strings from the result.\n",
      "      maxsplit\n",
      "        Maximum number of splits (starting from the left).\n",
      "        -1 (the default value) means no limit.\n",
      "    \n",
      "    Note, str.split() is mainly useful for data that has been intentionally\n",
      "    delimited.  With natural text that includes punctuation, consider using\n",
      "    the regular expression module.\n",
      "\n"
     ]
    }
   ],
   "source": [
    "help(str.split)"
   ]
  },
  {
   "cell_type": "code",
   "execution_count": 3,
   "id": "4a63faa9",
   "metadata": {},
   "outputs": [
    {
     "name": "stdout",
     "output_type": "stream",
     "text": [
      "['Hello,', 'Welcome', 'to', 'the', 'world', 'of', 'python']\n"
     ]
    }
   ],
   "source": [
    "str = \"Hello, Welcome to the world of python\"\n",
    "str2 = str.split()\n",
    "print(str2)"
   ]
  },
  {
   "cell_type": "code",
   "execution_count": 5,
   "id": "e858a385",
   "metadata": {},
   "outputs": [
    {
     "name": "stdout",
     "output_type": "stream",
     "text": [
      "['Hello', ' Welcome to the world of python']\n"
     ]
    }
   ],
   "source": [
    "str3 = str.split(\",\")\n",
    "print(str3)"
   ]
  },
  {
   "cell_type": "markdown",
   "id": "5a2e9739",
   "metadata": {},
   "source": [
    "**Explore append, pop, remove, sort methods of list data type**"
   ]
  },
  {
   "cell_type": "code",
   "execution_count": 6,
   "id": "b2340fb1",
   "metadata": {},
   "outputs": [],
   "source": [
    "list_of_fruits = [\"Mango\",\"Apple\",\"Grapes\",\"Kiwi\",\"Jackfruit\",\"Banana\",\"Pear\",\"Avocado\",\"Blueberry\",\"Strawberry\",]"
   ]
  },
  {
   "cell_type": "code",
   "execution_count": 8,
   "id": "631a9dc1",
   "metadata": {},
   "outputs": [
    {
     "name": "stdout",
     "output_type": "stream",
     "text": [
      "['Mango', 'Apple', 'Grapes', 'Kiwi', 'Jackfruit', 'Banana', 'Pear', 'Avocado', 'Blueberry', 'Strawberry', 'Raspberry']\n"
     ]
    }
   ],
   "source": [
    "list_of_fruits.append(\"Raspberry\")\n",
    "print(list_of_fruits)"
   ]
  },
  {
   "cell_type": "code",
   "execution_count": 12,
   "id": "6d0a8be7",
   "metadata": {},
   "outputs": [
    {
     "name": "stdout",
     "output_type": "stream",
     "text": [
      "['Mango', 'Apple', 'Grapes', 'Kiwi', 'Jackfruit', 'Banana', 'Pear', 'Avocado', 'Blueberry', 'Strawberry']\n"
     ]
    }
   ],
   "source": [
    "list_of_fruits.pop()\n",
    "print(list_of_fruits)"
   ]
  },
  {
   "cell_type": "code",
   "execution_count": 15,
   "id": "439c444f",
   "metadata": {},
   "outputs": [
    {
     "name": "stdout",
     "output_type": "stream",
     "text": [
      "['Mango', 'Apple', 'Grapes', 'Kiwi', 'Banana', 'Pear', 'Avocado', 'Blueberry', 'Strawberry']\n"
     ]
    }
   ],
   "source": [
    "list_of_fruits.pop(4)\n",
    "print(list_of_fruits)"
   ]
  },
  {
   "cell_type": "code",
   "execution_count": 18,
   "id": "b6db4056",
   "metadata": {},
   "outputs": [
    {
     "name": "stdout",
     "output_type": "stream",
     "text": [
      "['Mango', 'Apple', 'Grapes', 'Kiwi', 'Banana', 'Pear', 'Avocado', 'Strawberry']\n"
     ]
    }
   ],
   "source": [
    "list_of_fruits.remove(\"Blueberry\")\n",
    "print(list_of_fruits)"
   ]
  },
  {
   "cell_type": "code",
   "execution_count": 19,
   "id": "f8731431",
   "metadata": {},
   "outputs": [
    {
     "name": "stdout",
     "output_type": "stream",
     "text": [
      "['Apple', 'Avocado', 'Banana', 'Grapes', 'Kiwi', 'Mango', 'Pear', 'Strawberry']\n"
     ]
    }
   ],
   "source": [
    "list_of_fruits.sort()\n",
    "print(list_of_fruits)"
   ]
  },
  {
   "cell_type": "markdown",
   "id": "aa5ad7ef",
   "metadata": {},
   "source": [
    "**Create 5 real time lists to store some useful information in python eg. Language = [ ‘java’, ‘c’, ‘c++’, ‘ruby’ ]**"
   ]
  },
  {
   "cell_type": "code",
   "execution_count": 22,
   "id": "cb61d9f0",
   "metadata": {},
   "outputs": [
    {
     "name": "stdout",
     "output_type": "stream",
     "text": [
      "['Rohit Sharma', 'Shikhar Dhawan', 'Ruturaj Gaikwad', 'Virat Kohli', 'KL Rahul', 'Rishabh Pant', 'Ajinkya Rahane', 'MS Dhoni', 'Hardik Pandya', 'Yuzvendra Chahal', 'Bhuvneswar Kumar', 'Jasprit Bumrah']\n"
     ]
    }
   ],
   "source": [
    "list_of_cricketers = [\"Rohit Sharma\",\"Shikhar Dhawan\",\"Ruturaj Gaikwad\",\"Virat Kohli\",\"KL Rahul\",\"Rishabh Pant\",\"Ajinkya Rahane\",\"MS Dhoni\",\"Hardik Pandya\",\"Yuzvendra Chahal\",\"Bhuvneswar Kumar\",\"Jasprit Bumrah\"]\n",
    "print(list_of_cricketers)"
   ]
  },
  {
   "cell_type": "code",
   "execution_count": 23,
   "id": "e25c394a",
   "metadata": {},
   "outputs": [
    {
     "name": "stdout",
     "output_type": "stream",
     "text": [
      "['Milk', 'Bread', 'Eggs', 'Peanut butter', 'Cereals', 'Wheat flour', 'Ghee', 'Pepper powder']\n"
     ]
    }
   ],
   "source": [
    "list_of_items_to_be_bought = [\"Milk\",\"Bread\",\"Eggs\",\"Peanut butter\",\"Cereals\",\"Wheat flour\",\"Ghee\",\"Pepper powder\"]\n",
    "print(list_of_items_to_be_bought)"
   ]
  },
  {
   "cell_type": "code",
   "execution_count": 25,
   "id": "da458192",
   "metadata": {},
   "outputs": [
    {
     "name": "stdout",
     "output_type": "stream",
     "text": [
      "[['Abhishek Kumar', 1648, 'Prayagraj', 25000, 'Night-shift'],\n",
      " ['Chintan Singh', 1650, 'Jaipur', 30000, 'Morning-shift'],\n",
      " ['Neel Sharma', 1649, 'Delhi', 40000, 'Night-shift'],\n",
      " ['Ivara Sharma', 1652, 'Mumbai', 20000, 'Morning-shift'],\n",
      " ['Zeyn Shaw', 1651, 'Delhi', 50000, 'Night-shift']]\n"
     ]
    }
   ],
   "source": [
    "list_of_employees = [\n",
    "    [\"Abhishek Kumar\",1648,\"Prayagraj\",25000,\"Night-shift\"],\n",
    "    [\"Chintan Singh\",1650,\"Jaipur\",30000,\"Morning-shift\"],\n",
    "    [\"Neel Sharma\",1649,\"Delhi\",40000,\"Night-shift\"],\n",
    "    [\"Ivara Sharma\",1652,\"Mumbai\",20000,\"Morning-shift\"],\n",
    "    [\"Zeyn Shaw\",1651,\"Delhi\",50000,\"Night-shift\"]\n",
    "]\n",
    "from pprint import pprint\n",
    "pprint(list_of_employees)"
   ]
  },
  {
   "cell_type": "markdown",
   "id": "677f9c5d",
   "metadata": {},
   "source": [
    "**What is difference between mutable and immutable data types in python**"
   ]
  },
  {
   "cell_type": "markdown",
   "id": "bea3a5c2",
   "metadata": {},
   "source": [
    "***Mutable data types***\n",
    "\n",
    "Mutable data types are those data which can be modified over the time without creating a new object or reference. \n",
    "\n",
    "***Immutable data types***\n",
    "\n",
    "Immutable data types are those data types which cannot be modified. We can only change their value by creating another reference.\n"
   ]
  },
  {
   "cell_type": "markdown",
   "id": "fbb71814",
   "metadata": {},
   "source": [
    "**What are identifiers, list rules of identifiers in python**"
   ]
  },
  {
   "cell_type": "markdown",
   "id": "e6464745",
   "metadata": {},
   "source": [
    "Identifiers are the variables which are used store the data and are used for reference to use the methods and functions of the class to which the identifier belongs to.\n",
    "Some rules of identifiers are-\n",
    "\n",
    "1. Names of identifiers should always start from either alphabets or underscores and not from numbers.\n",
    "2. Special characters like spaces, hashes, @, etc. are not allowed.\n",
    "3. Identifier names are case-sensitive.\n",
    "4. Avoid using double underscores before and after the varibale names since they are used for pre-defined methods.\n",
    "5. Reserved kaywords cannot be used for naming the identifiers."
   ]
  }
 ],
 "metadata": {
  "kernelspec": {
   "display_name": "Python 3 (ipykernel)",
   "language": "python",
   "name": "python3"
  },
  "language_info": {
   "codemirror_mode": {
    "name": "ipython",
    "version": 3
   },
   "file_extension": ".py",
   "mimetype": "text/x-python",
   "name": "python",
   "nbconvert_exporter": "python",
   "pygments_lexer": "ipython3",
   "version": "3.10.9"
  }
 },
 "nbformat": 4,
 "nbformat_minor": 5
}
