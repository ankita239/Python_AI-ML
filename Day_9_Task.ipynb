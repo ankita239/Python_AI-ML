{
 "cells": [
  {
   "cell_type": "markdown",
   "id": "553e18d7",
   "metadata": {},
   "source": [
    "**Write a Python program to check whether a number is negative, positive or zero.**"
   ]
  },
  {
   "cell_type": "code",
   "execution_count": 1,
   "id": "931561d9",
   "metadata": {},
   "outputs": [
    {
     "name": "stdout",
     "output_type": "stream",
     "text": [
      "Enter the number:3\n",
      "3 is positive\n"
     ]
    }
   ],
   "source": [
    "number = int(input(\"Enter the number:\"))\n",
    "if(number>0):\n",
    "    print(f\"{number} is positive\")\n",
    "elif(number<0):\n",
    "    print(f\"{number} is negative\")\n",
    "else:\n",
    "    print(\"The entered number is 0\")"
   ]
  },
  {
   "cell_type": "markdown",
   "id": "d53c4cf0",
   "metadata": {},
   "source": [
    "**Write a Python program to check whether a number is divisible by 5 and 11 or not.**"
   ]
  },
  {
   "cell_type": "code",
   "execution_count": 1,
   "id": "28842aa5",
   "metadata": {},
   "outputs": [
    {
     "name": "stdout",
     "output_type": "stream",
     "text": [
      "Enter the number:15\n",
      "15 is divisible by both 3 and 5\n"
     ]
    }
   ],
   "source": [
    "number = int(input(\"Enter the number:\"))\n",
    "if ((number % 5 == 0) and (number % 3 == 0)):\n",
    "    print(f\"{number} is divisible by both 3 and 5\")\n",
    "else:\n",
    "    print(f\"{number} is not divisible by both 3 and 5\")"
   ]
  },
  {
   "cell_type": "markdown",
   "id": "14f7f0eb",
   "metadata": {},
   "source": [
    "**Write a Python program to check whether a year is leap year or not.**"
   ]
  },
  {
   "cell_type": "code",
   "execution_count": 3,
   "id": "c21236ca",
   "metadata": {},
   "outputs": [
    {
     "name": "stdout",
     "output_type": "stream",
     "text": [
      "Enter the year:1905\n",
      "1905 is not a leap year\n"
     ]
    }
   ],
   "source": [
    "year = int(input(\"Enter the year:\"))\n",
    "if(year % 100 == 0):\n",
    "    if(year % 400 == 0):\n",
    "        print(f\"{year} is a leap year\")\n",
    "    else:\n",
    "        print(f\"{year} is not a leap year\")\n",
    "else:\n",
    "    if(year % 4 == 0):\n",
    "        print(f\"{year} is a leap year\")\n",
    "    else:\n",
    "        print(f\"{year} is not a leap year\")"
   ]
  },
  {
   "cell_type": "markdown",
   "id": "5298c22d",
   "metadata": {},
   "source": [
    "**Write a Python program to check whether a character is alphabet or not.**"
   ]
  },
  {
   "cell_type": "code",
   "execution_count": 9,
   "id": "e92d8425",
   "metadata": {},
   "outputs": [
    {
     "name": "stdout",
     "output_type": "stream",
     "text": [
      "Enter the charater to be checked:&\n",
      "& is not an alphabet\n"
     ]
    }
   ],
   "source": [
    "character  = input(\"Enter the charater to be checked:\")\n",
    "asc_character = ord(character)\n",
    "if(asc_character >= ord('a') and asc_character <= ord('z')) or (asc_character >= ord('A') and asc_character('Z')):\n",
    "    print(f\"{character} is an alphabet\")\n",
    "else:\n",
    "    print(f\"{character} is not an alphabet\")"
   ]
  },
  {
   "cell_type": "markdown",
   "id": "bff1479b",
   "metadata": {},
   "source": [
    "**Write a Python program to input any alphabet and check whether it is vowel or consonant.**"
   ]
  },
  {
   "cell_type": "code",
   "execution_count": 1,
   "id": "c14cde89",
   "metadata": {},
   "outputs": [
    {
     "name": "stdout",
     "output_type": "stream",
     "text": [
      "Enter an alphabet:s\n",
      "It is a consonant\n"
     ]
    }
   ],
   "source": [
    "alpha = input(\"Enter an alphabet:\")\n",
    "asc_alpha = ord(alpha)\n",
    "if(asc_alpha == ord('a') or asc_alpha == ord('e') or asc_alpha == ord('i') or asc_alpha == ord('o') or asc_alpha == ord('u')):\n",
    "    print(\"It is a vowel\")\n",
    "else:\n",
    "    print(\"It is a consonant\")"
   ]
  },
  {
   "cell_type": "markdown",
   "id": "789fa78b",
   "metadata": {},
   "source": [
    "**Write a Python program to input any character and check whether it is alphabet, digit or special character**"
   ]
  },
  {
   "cell_type": "code",
   "execution_count": 5,
   "id": "163aca66",
   "metadata": {},
   "outputs": [
    {
     "name": "stdout",
     "output_type": "stream",
     "text": [
      "Enter the character:3\n",
      "It is a number\n"
     ]
    }
   ],
   "source": [
    "charac_ter = input(\"Enter the character:\")\n",
    "if(charac_ter.isalpha()):\n",
    "    print(\"It is an alphabet\")\n",
    "elif(charac_ter.isdigit()):\n",
    "    print(\"It is a number\")\n",
    "else:\n",
    "    print(\"It is a special character\")"
   ]
  },
  {
   "cell_type": "markdown",
   "id": "8e858079",
   "metadata": {},
   "source": [
    "**Write a Python program to check whether a character is uppercase or lowercase alphabet.**"
   ]
  },
  {
   "cell_type": "code",
   "execution_count": 7,
   "id": "6a3ba65e",
   "metadata": {},
   "outputs": [
    {
     "name": "stdout",
     "output_type": "stream",
     "text": [
      "Enter the character to be checked:G\n",
      "G is in uppercase\n"
     ]
    }
   ],
   "source": [
    "character = input(\"Enter the character to be checked:\")\n",
    "asc_character = ord(character)\n",
    "if(asc_character <= ord('Z') and asc_character >= ord('A')):\n",
    "    print(f\"{character} is in uppercase\")\n",
    "elif(asc_character <= ord('z') and asc_character >= ord('a')):\n",
    "    print(f\"{character} is in lowercase\")\n",
    "else:\n",
    "    print(\"Please enter a valid input!\")"
   ]
  },
  {
   "cell_type": "markdown",
   "id": "ae8845ac",
   "metadata": {},
   "source": [
    "**Write a Python program to input week number and print weekday**"
   ]
  },
  {
   "cell_type": "code",
   "execution_count": 11,
   "id": "611f9861",
   "metadata": {},
   "outputs": [
    {
     "name": "stdout",
     "output_type": "stream",
     "text": [
      "Enter the week number:4\n",
      "Thursday\n"
     ]
    }
   ],
   "source": [
    "week_num = int(input(\"Enter the week number:\"))\n",
    "if(week_num == 1):\n",
    "    print(\"Monday\")\n",
    "elif(week_num == 2):\n",
    "    print(\"Tuesday\")\n",
    "elif(week_num == 3):\n",
    "    print(\"Wednesday\")\n",
    "elif(week_num == 4):\n",
    "    print(\"Thursday\")\n",
    "elif(week_num == 5):\n",
    "    print(\"Friday\")\n",
    "elif(week_num == 6):\n",
    "    print(\"Saturday\")\n",
    "elif(week_num == 7):\n",
    "    print(\"Sunday\")\n",
    "else:\n",
    "    print(\"Please enter a valid input\")"
   ]
  },
  {
   "cell_type": "markdown",
   "id": "5d20349f",
   "metadata": {},
   "source": [
    "**Write a Python program to input angles of a triangle and check whether triangle is valid or not**"
   ]
  },
  {
   "cell_type": "code",
   "execution_count": 14,
   "id": "e8aec3b5",
   "metadata": {},
   "outputs": [
    {
     "name": "stdout",
     "output_type": "stream",
     "text": [
      "Enter the first angle of the triangle:60\n",
      "Enter the second angle of the triangle:70\n",
      "Enter the third angle of the triangle:50\n",
      "The triangle is valid\n"
     ]
    }
   ],
   "source": [
    "angle1 = int(input(\"Enter the first angle of the triangle:\"))\n",
    "angle2 = int(input(\"Enter the second angle of the triangle:\"))\n",
    "angle3 = int(input(\"Enter the third angle of the triangle:\"))\n",
    "if((angle1+angle2+angle3) == 180):\n",
    "    print(\"The triangle is valid\")\n",
    "else:\n",
    "    print(\"The triangle is not valid\")"
   ]
  },
  {
   "cell_type": "markdown",
   "id": "dbd28342",
   "metadata": {},
   "source": [
    "**Write a Python program to input all sides of a triangle and check whether triangle is valid or not.**"
   ]
  },
  {
   "cell_type": "code",
   "execution_count": 17,
   "id": "f97981b4",
   "metadata": {},
   "outputs": [
    {
     "name": "stdout",
     "output_type": "stream",
     "text": [
      "Enter the first side of the triangle:15\n",
      "Enter the second side of the triangle:10\n",
      "Enter the third side of the triangle:25\n",
      "The triangle is not valid\n"
     ]
    }
   ],
   "source": [
    "side1 = int(input(\"Enter the first side of the triangle:\"))\n",
    "side2 = int(input(\"Enter the second side of the triangle:\"))\n",
    "side3 = int(input(\"Enter the third side of the triangle:\"))\n",
    "if((side1+side2)>side3 and (side2+side3)>side1 and (side1+side3)>side2):\n",
    "    print(\"The triangle is valid\")\n",
    "else:\n",
    "    print(\"The triangle is not valid\")"
   ]
  },
  {
   "cell_type": "markdown",
   "id": "cdc74323",
   "metadata": {},
   "source": [
    "**Write a Python program to check whether the triangle is equilateral, isosceles or scalene triangle.**"
   ]
  },
  {
   "cell_type": "code",
   "execution_count": 18,
   "id": "aa876a2e",
   "metadata": {},
   "outputs": [
    {
     "name": "stdout",
     "output_type": "stream",
     "text": [
      "Enter the first side of the triangle:4\n",
      "Enter the second side of the triangle:4\n",
      "Enter the third side of the triangle:6\n",
      "Isosceles triangle\n"
     ]
    }
   ],
   "source": [
    "side1 = int(input(\"Enter the first side of the triangle:\"))\n",
    "side2 = int(input(\"Enter the second side of the triangle:\"))\n",
    "side3 = int(input(\"Enter the third side of the triangle:\"))\n",
    "if((side1+side2)>side3 and (side2+side3)>side1 and (side1+side3)>side2):\n",
    "    if(side1 == side2 == side3):\n",
    "        print(\"Equilateral triangle\")\n",
    "    elif((side1 == side2) or (side2 == side3) or (side1 == side3)):\n",
    "        print(\"Isosceles triangle\")\n",
    "    else:\n",
    "        print(\"Scalene triangle\")\n",
    "else:\n",
    "    print(\"The triangle is not valid\")"
   ]
  },
  {
   "cell_type": "markdown",
   "id": "229b218b",
   "metadata": {},
   "source": [
    "**Write a Python program to input marks of five subjects Physics, Chemistry, Biology, Mathematics and Computer. Calculate percentage and grade according to following:**\n",
    "\n",
    "                   Percentage >= 90% : Grade A\n",
    "                   \n",
    "                   Percentage >= 80% : Grade B \n",
    "                   \n",
    "                   Percentage >= 70% : Grade C \n",
    "                   \n",
    "                   Percentage >= 60% : Grade D \n",
    "                   \n",
    "                   Percentage >= 50% : Grade E \n",
    "                   \n",
    "                   Percentage < 40% : Grade F"
   ]
  },
  {
   "cell_type": "code",
   "execution_count": 1,
   "id": "9810c5d6",
   "metadata": {},
   "outputs": [
    {
     "name": "stdout",
     "output_type": "stream",
     "text": [
      "Enter the marks in Physics:97\n",
      "Enter the marks in Chemistry:92\n",
      "Enter the marks in Biology:89\n",
      "Enter the marks in Mathematics:95\n",
      "Enter the marks in Computer:94\n",
      "Percentage: 93.4\n",
      "Grade: A\n"
     ]
    }
   ],
   "source": [
    "phy = float(input(\"Enter the marks in Physics:\"))\n",
    "chem =float(input(\"Enter the marks in Chemistry:\"))\n",
    "bio = float(input(\"Enter the marks in Biology:\"))\n",
    "maths = float(input(\"Enter the marks in Mathematics:\"))\n",
    "comp = float(input(\"Enter the marks in Computer:\"))\n",
    "percentage = (((phy+chem+bio+maths+comp)/500)*100)\n",
    "print(f\"Percentage: {percentage}\")\n",
    "if(percentage>=90):\n",
    "    grade = 'A'\n",
    "elif(percentage>=80 and percentage<90):\n",
    "    grade = 'B'\n",
    "elif(percentage>=70 and percentage<80):\n",
    "    grade = 'C'\n",
    "elif(percentage>=60 and percentage<70):\n",
    "    grade = 'D'\n",
    "elif(percentage>=50 and percentage<60):\n",
    "    grade = 'E'\n",
    "else:\n",
    "    grade = 'F'\n",
    "print(f\"Grade: {grade}\")"
   ]
  },
  {
   "cell_type": "markdown",
   "id": "313e9e96",
   "metadata": {},
   "source": [
    "**Write a Python program to input basic salary of an employee and calculate its Gross salary according to following:**\n",
    "\n",
    "                Basic Salary <= 10000 : HRA = 20%, DA = 80% \n",
    "                \n",
    "                Basic Salary <= 20000 : HRA = 25%, DA = 90% \n",
    "                \n",
    "                Basic Salary > 20000 : HRA = 30%, DA = 95%"
   ]
  },
  {
   "cell_type": "code",
   "execution_count": 8,
   "id": "ae4d8d78",
   "metadata": {},
   "outputs": [
    {
     "name": "stdout",
     "output_type": "stream",
     "text": [
      "Enter your salary:50000\n",
      "Basic Salaray: 50000.0\n",
      "HRA:15000.0\n",
      "DA:47500.0\n",
      "Gross Salary:112500.0\n"
     ]
    }
   ],
   "source": [
    "sal = float(input(\"Enter your salary:\"))\n",
    "if sal<=10000 :\n",
    "    hra = 0.2 * sal\n",
    "    da = 0.8 * sal\n",
    "elif sal <= 20000:\n",
    "    hra = 0.25 * sal\n",
    "    da = 0.9 * sal\n",
    "else:\n",
    "    hra = 0.3 * sal\n",
    "    da = 0.95 * sal\n",
    "print(f\"Basic Salaray: {sal}\")\n",
    "print(f\"HRA:{hra}\")\n",
    "print(f\"DA:{da}\")\n",
    "gross = sal + hra + da\n",
    "print(f\"Gross Salary:{gross}\")"
   ]
  },
  {
   "cell_type": "markdown",
   "id": "a48c2f19",
   "metadata": {},
   "source": [
    "**Write a Python Program to input electricity unit charges and calculate total electricity bill according to the given condition:**\n",
    "\n",
    "            For first 50 units Rs. 0.50/unit\n",
    "            \n",
    "            For next 100 units Rs. 0.75/unit\n",
    "            \n",
    "            For next 100 units Rs. 1.20/unit\n",
    "            \n",
    "            For unit above 250 Rs. 1.50/unit\n",
    "            \n",
    "   An additional surcharge of 20% is added to the bill"
   ]
  },
  {
   "cell_type": "code",
   "execution_count": 9,
   "id": "4c41e677",
   "metadata": {
    "scrolled": true
   },
   "outputs": [
    {
     "name": "stdout",
     "output_type": "stream",
     "text": [
      "Enter the units of electricity consumed:300\n",
      "Actual Charge:450.0\n",
      "Gross Charge after addition of the surcharge: 540.0\n"
     ]
    }
   ],
   "source": [
    "unit = float(input(\"Enter the units of electricity consumed:\"))\n",
    "if (unit <= 50):\n",
    "    act_bill = unit*0.50\n",
    "elif(unit>50 and unit<=150):\n",
    "    act_bill = unit*0.75\n",
    "elif(unit>150 and unit<=250):\n",
    "    act_bill = unit*1.20\n",
    "else:\n",
    "    act_bill = unit*1.50\n",
    "print(f\"Actual Charge:{act_bill}\")\n",
    "total = act_bill + (0.2*act_bill)\n",
    "print(f\"Gross Charge after addition of the surcharge: {total}\")"
   ]
  }
 ],
 "metadata": {
  "kernelspec": {
   "display_name": "Python 3 (ipykernel)",
   "language": "python",
   "name": "python3"
  },
  "language_info": {
   "codemirror_mode": {
    "name": "ipython",
    "version": 3
   },
   "file_extension": ".py",
   "mimetype": "text/x-python",
   "name": "python",
   "nbconvert_exporter": "python",
   "pygments_lexer": "ipython3",
   "version": "3.10.9"
  }
 },
 "nbformat": 4,
 "nbformat_minor": 5
}
