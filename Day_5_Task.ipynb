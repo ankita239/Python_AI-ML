{
 "cells": [
  {
   "cell_type": "markdown",
   "id": "9655c965",
   "metadata": {},
   "source": [
    "**What is difference between shallow copy and deep copy?**"
   ]
  },
  {
   "cell_type": "markdown",
   "id": "497a6417",
   "metadata": {},
   "source": [
    "Python has the copy module to copy objects into another reference. There are two methods of copying contents - Deep copy and Shallow Copy."
   ]
  },
  {
   "cell_type": "markdown",
   "id": "600ff04b",
   "metadata": {},
   "source": [
    "***Deep Copy***\n",
    "\n",
    "In deep copy, after the copy operation has been done, any change in the copied variable will not affect the original value. Syntax - copy.deepcopy()"
   ]
  },
  {
   "cell_type": "code",
   "execution_count": 3,
   "id": "0d13fe34",
   "metadata": {},
   "outputs": [
    {
     "name": "stdout",
     "output_type": "stream",
     "text": [
      "[[1, 2], [3, 4]]\n"
     ]
    }
   ],
   "source": [
    "import copy\n",
    "l = [[1,2],[3,4]]\n",
    "deep_cpy = copy.deepcopy(l)\n",
    "print(deep_cpy)"
   ]
  },
  {
   "cell_type": "code",
   "execution_count": 5,
   "id": "198718a8",
   "metadata": {},
   "outputs": [
    {
     "name": "stdout",
     "output_type": "stream",
     "text": [
      "1\n",
      "[[45, 2], [3, 4]]\n",
      "[[1, 2], [3, 4]]\n"
     ]
    }
   ],
   "source": [
    "print(deep_cpy[0][0])\n",
    "deep_cpy[0][0]= 45\n",
    "print(deep_cpy)\n",
    "print(l)"
   ]
  },
  {
   "cell_type": "markdown",
   "id": "23dace50",
   "metadata": {},
   "source": [
    "***Shallow Copy***\n",
    "\n",
    "In shallow copy, after copying any changes made in the copied content will also affect the original value and the changes will be lost.\n",
    "Syntax - copy.copy()"
   ]
  },
  {
   "cell_type": "code",
   "execution_count": 13,
   "id": "a4e38084",
   "metadata": {},
   "outputs": [
    {
     "name": "stdout",
     "output_type": "stream",
     "text": [
      "[['A', 'B'], ['C', 'D']]\n"
     ]
    }
   ],
   "source": [
    "import copy\n",
    "l2 = [['A','B'],['C','D']]\n",
    "shlw_cpy= copy.copy(l2)\n",
    "print(shlw_cpy)"
   ]
  },
  {
   "cell_type": "code",
   "execution_count": 14,
   "id": "9c214608",
   "metadata": {},
   "outputs": [
    {
     "name": "stdout",
     "output_type": "stream",
     "text": [
      "D\n",
      "[['A', 'B'], ['C', 'F']]\n",
      "[['A', 'B'], ['C', 'F']]\n"
     ]
    }
   ],
   "source": [
    "print((shlw_cpy[1][1]))\n",
    "shlw_cpy[1][1]='F'\n",
    "print(shlw_cpy)\n",
    "print(l2)"
   ]
  },
  {
   "cell_type": "markdown",
   "id": "9eedb077",
   "metadata": {},
   "source": [
    "**You want to create a library management application, you need to store data about books, students in your program, how will you store data inside python using list? Create some lists with fake data to store information about library management.**"
   ]
  },
  {
   "cell_type": "code",
   "execution_count": 15,
   "id": "b7eac594",
   "metadata": {},
   "outputs": [],
   "source": [
    "lib_management= [\n",
    "    [\"John Smith\", \"15-06-2023\", \"15-06-2023\", \"To Kill a Mockingbird\"],\n",
    "    [\"Emma Johnson\", \"20-05-2023\", \"20-06-2023\", \"1984\"],\n",
    "    [\"Michael Brown\", \"25-05-2023\", \"25-06-2023\", \"The Great Gatsby\"],\n",
    "    [\"Emma Stone\", \"01-06-2023\", \"01-07-2023\", \"Harry Potter and the Sorcerer's Stone\"],\n",
    "    [\"John Smith\", \"05-06-2023\", \"05-07-2023\", \"The Cathcher in the Rye\"],\n",
    "    [\"Michael Brown\", \"08-06-2023\", \"08-07-2023\", \"To All the Boys I've Loved Before\"],\n",
    "    [\"Emma Johnson\", \"10-06-2023\", \"10-07-2023\", \"The Hobbit\"],\n",
    "    [\"John Smith\", \"12-06-2023\", \"12-07-2023\", \"The Da Vinci Code\"]\n",
    "]"
   ]
  },
  {
   "cell_type": "code",
   "execution_count": 18,
   "id": "f3daa64c",
   "metadata": {},
   "outputs": [
    {
     "name": "stdout",
     "output_type": "stream",
     "text": [
      "[['John Smith', '15-06-2023', '15-06-2023', 'To Kill a Mockingbird'],\n",
      " ['Emma Johnson', '20-05-2023', '20-06-2023', '1984'],\n",
      " ['Michael Brown', '25-05-2023', '25-06-2023', 'The Great Gatsby'],\n",
      " ['Emma Stone',\n",
      "  '01-06-2023',\n",
      "  '01-07-2023',\n",
      "  \"Harry Potter and the Sorcerer's Stone\"],\n",
      " ['John Smith', '05-06-2023', '05-07-2023', 'The Cathcher in the Rye'],\n",
      " ['Michael Brown',\n",
      "  '08-06-2023',\n",
      "  '08-07-2023',\n",
      "  \"To All the Boys I've Loved Before\"],\n",
      " ['Emma Johnson', '10-06-2023', '10-07-2023', 'The Hobbit'],\n",
      " ['John Smith', '12-06-2023', '12-07-2023', 'The Da Vinci Code']]\n"
     ]
    }
   ],
   "source": [
    "from pprint import pprint\n",
    "pprint(lib_management)"
   ]
  },
  {
   "cell_type": "markdown",
   "id": "57c834ee",
   "metadata": {},
   "source": [
    "**This chapter introduced assignment statements, like spam = 10. What is the difference between an expression and a statement?**"
   ]
  },
  {
   "cell_type": "markdown",
   "id": "337be4ce",
   "metadata": {},
   "source": [
    "`Expression`\n",
    "\n",
    "An expression is a collection of variables, values and operators which evaluates to a single value once a value is passed.\n",
    "\n",
    "`Statement`\n",
    "\n",
    "A statement is python is a complete instruction which is used to either assign a value to to generate the flow of the execution. It is a collection of keywords, values and variables to be assigned."
   ]
  },
  {
   "cell_type": "markdown",
   "id": "dd3a29eb",
   "metadata": {},
   "source": [
    "**Define following**\n",
    "\n",
    "**a. Atomic data types / Primary data types**\n",
    "\n",
    "**b. Secondary data type / User Defined Data Type**"
   ]
  },
  {
   "cell_type": "markdown",
   "id": "9878af1d",
   "metadata": {},
   "source": [
    "`Atomic data types / Primary data types`\n",
    "\n",
    " Atomic data types are predefined data types in Python which are immutable and every atomic data type has a specific characteristic. They are basically the fundamental data types which are needed to create the user-defined data types in python.\n",
    " \n",
    " Eg- int, float, etc.\n",
    " \n",
    " `Secondary data type/User Dedfined Data Type`\n",
    " \n",
    " Secondary data types are the data types which are defined by the users using the atomic data types. They don't specifically have a proper characteristic and can be mutable or immutable depending on their type.\n",
    " \n",
    " Eg - Lists, tuples, Dictionaries, etc."
   ]
  },
  {
   "cell_type": "markdown",
   "id": "f80f04ee",
   "metadata": {},
   "source": [
    "**What is UDF?**"
   ]
  },
  {
   "cell_type": "markdown",
   "id": "d2155423",
   "metadata": {},
   "source": [
    "UDF is the User Defined Function which is basically a block of code which can be called to get executed anytime in the code. Its operations are predefined by th euser and can be reused wherever needed. There are 4 types-\n",
    "1. Function which takes argument(s) and returns nothing\n",
    "2. Function which takes argument(s) and returns a value\n",
    "3. Function which doesn't take any arguments and returns none\n",
    "4. Function which doesn't take any argumants but return a value"
   ]
  },
  {
   "cell_type": "markdown",
   "id": "c0bde0df",
   "metadata": {},
   "source": [
    "1. Function which takes argument(s) and returns nothing"
   ]
  },
  {
   "cell_type": "code",
   "execution_count": 19,
   "id": "f3c5d438",
   "metadata": {},
   "outputs": [],
   "source": [
    "def greet(name):\n",
    "    print(\"Hello\"+name)"
   ]
  },
  {
   "cell_type": "markdown",
   "id": "df840956",
   "metadata": {},
   "source": [
    "2. Function which takes argument(s) and returns a value"
   ]
  },
  {
   "cell_type": "code",
   "execution_count": 20,
   "id": "4a42fefa",
   "metadata": {},
   "outputs": [],
   "source": [
    "def sum(a,b):\n",
    "    return a+b"
   ]
  },
  {
   "cell_type": "markdown",
   "id": "a21b69a7",
   "metadata": {},
   "source": [
    "3. Function which doesn't take any arguments and returns none"
   ]
  },
  {
   "cell_type": "code",
   "execution_count": 21,
   "id": "4a221daf",
   "metadata": {},
   "outputs": [],
   "source": [
    "def msg():\n",
    "    print(\"Hello there!\")"
   ]
  },
  {
   "cell_type": "markdown",
   "id": "5ec7f477",
   "metadata": {},
   "source": [
    "4. Function which doesn't take any argumants but return a value"
   ]
  },
  {
   "cell_type": "code",
   "execution_count": 22,
   "id": "09974ba4",
   "metadata": {},
   "outputs": [],
   "source": [
    "def current_year():\n",
    "    return 2023"
   ]
  }
 ],
 "metadata": {
  "kernelspec": {
   "display_name": "Python 3 (ipykernel)",
   "language": "python",
   "name": "python3"
  },
  "language_info": {
   "codemirror_mode": {
    "name": "ipython",
    "version": 3
   },
   "file_extension": ".py",
   "mimetype": "text/x-python",
   "name": "python",
   "nbconvert_exporter": "python",
   "pygments_lexer": "ipython3",
   "version": "3.10.9"
  }
 },
 "nbformat": 4,
 "nbformat_minor": 5
}
