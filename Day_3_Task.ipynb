{
 "cells": [
  {
   "cell_type": "markdown",
   "id": "8dc04172",
   "metadata": {},
   "source": [
    "**What are Data Structures? List some of data structures and their use in real world application?**"
   ]
  },
  {
   "cell_type": "markdown",
   "id": "dc04ef31",
   "metadata": {},
   "source": [
    "Data Structures in python are used to store, modify and manipulate data. They define how we can perform various operations on the data, with respect to its type. In python, every thing is considered as an object of a certain class and the object can access the functions and methods of that particular class only.\n",
    "\n",
    "   There are various types of data structures and many real-life applications of them. Some are-\n",
    "   \n",
    " 1) Lists - Lists are mutable and ordered type of which can store different types of data structure in a single list. It can be used to make shopping lists, bank details, etc.\n",
    " \n",
    " 2) Dictionary - Dictionary stores data with a specific keyword which makes it easier to access the element without remembering the index. It can be used to user databases with unique usernames.\n",
    " \n",
    " 3) Sets - It is also used to store data but avoids data redundancy and eliminates the repeated elements. It can be used to store unique user ids of the users in a database."
   ]
  },
  {
   "cell_type": "markdown",
   "id": "af0e0933",
   "metadata": {},
   "source": [
    "**Create a list data type and store names of your friends in it (at least 5), check out what are methods available in list data type, try to figure out their working using help function in python**"
   ]
  },
  {
   "cell_type": "code",
   "execution_count": 1,
   "id": "c4daeee6",
   "metadata": {},
   "outputs": [],
   "source": [
    "list = [\"Rohit\", \"Shikhar\", \"Virat\", \"KL Rahul\", \"Ajinkya\", \"Hardik\", \"Dhoni\", \"Kuldeep\" ,\"Bhuvaneswar\", \"Yuzvendra\", \"Bumrah\"]"
   ]
  },
  {
   "cell_type": "code",
   "execution_count": 2,
   "id": "677292cc",
   "metadata": {},
   "outputs": [
    {
     "data": {
      "text/plain": [
       "['__add__',\n",
       " '__class__',\n",
       " '__class_getitem__',\n",
       " '__contains__',\n",
       " '__delattr__',\n",
       " '__delitem__',\n",
       " '__dir__',\n",
       " '__doc__',\n",
       " '__eq__',\n",
       " '__format__',\n",
       " '__ge__',\n",
       " '__getattribute__',\n",
       " '__getitem__',\n",
       " '__gt__',\n",
       " '__hash__',\n",
       " '__iadd__',\n",
       " '__imul__',\n",
       " '__init__',\n",
       " '__init_subclass__',\n",
       " '__iter__',\n",
       " '__le__',\n",
       " '__len__',\n",
       " '__lt__',\n",
       " '__mul__',\n",
       " '__ne__',\n",
       " '__new__',\n",
       " '__reduce__',\n",
       " '__reduce_ex__',\n",
       " '__repr__',\n",
       " '__reversed__',\n",
       " '__rmul__',\n",
       " '__setattr__',\n",
       " '__setitem__',\n",
       " '__sizeof__',\n",
       " '__str__',\n",
       " '__subclasshook__',\n",
       " 'append',\n",
       " 'clear',\n",
       " 'copy',\n",
       " 'count',\n",
       " 'extend',\n",
       " 'index',\n",
       " 'insert',\n",
       " 'pop',\n",
       " 'remove',\n",
       " 'reverse',\n",
       " 'sort']"
      ]
     },
     "execution_count": 2,
     "metadata": {},
     "output_type": "execute_result"
    }
   ],
   "source": [
    "dir(list)"
   ]
  },
  {
   "cell_type": "markdown",
   "id": "cd30730a",
   "metadata": {},
   "source": [
    "These are the various methods which are used on a list. The __method__ methods are called magic methods and we cannot directly use them. We only use the following methods to operate on the list:"
   ]
  },
  {
   "cell_type": "code",
   "execution_count": 4,
   "id": "29c481d7",
   "metadata": {},
   "outputs": [
    {
     "name": "stdout",
     "output_type": "stream",
     "text": [
      "append\n",
      "clear\n",
      "copy\n",
      "count\n",
      "extend\n",
      "index\n",
      "insert\n",
      "pop\n",
      "remove\n",
      "reverse\n",
      "sort\n"
     ]
    }
   ],
   "source": [
    "print(*[f for f in dir(list) if '__' not in f], sep ='\\n')"
   ]
  },
  {
   "cell_type": "code",
   "execution_count": 7,
   "id": "d58a2701",
   "metadata": {},
   "outputs": [
    {
     "name": "stdout",
     "output_type": "stream",
     "text": [
      "Help on built-in function append:\n",
      "\n",
      "append(object, /) method of builtins.list instance\n",
      "    Append object to the end of the list.\n",
      "\n"
     ]
    }
   ],
   "source": [
    "help(list.append)"
   ]
  },
  {
   "cell_type": "code",
   "execution_count": 9,
   "id": "7aedba08",
   "metadata": {},
   "outputs": [
    {
     "name": "stdout",
     "output_type": "stream",
     "text": [
      "['Rohit', 'Shikhar', 'Virat', 'KL Rahul', 'Ajinkya', 'Hardik', 'Dhoni', 'Kuldeep', 'Bhuvaneswar', 'Yuzvendra', 'Bumrah', 'Ishant', 'Ishant']\n"
     ]
    }
   ],
   "source": [
    "list.append(\"Ishant\")\n",
    "print(list)"
   ]
  },
  {
   "cell_type": "code",
   "execution_count": 12,
   "id": "87d11c18",
   "metadata": {},
   "outputs": [
    {
     "name": "stdout",
     "output_type": "stream",
     "text": [
      "Help on built-in function copy:\n",
      "\n",
      "copy() method of builtins.list instance\n",
      "    Return a shallow copy of the list.\n",
      "\n"
     ]
    }
   ],
   "source": [
    "help(list.copy)"
   ]
  },
  {
   "cell_type": "code",
   "execution_count": 15,
   "id": "5e7040d7",
   "metadata": {},
   "outputs": [
    {
     "name": "stdout",
     "output_type": "stream",
     "text": [
      "['Rohit', 'Shikhar', 'Virat', 'KL Rahul', 'Ajinkya', 'Hardik', 'Dhoni', 'Kuldeep', 'Bhuvaneswar', 'Yuzvendra', 'Bumrah', 'Ishant', 'Ishant']\n"
     ]
    }
   ],
   "source": [
    "list2= list.copy() \n",
    "print(list2)"
   ]
  },
  {
   "cell_type": "code",
   "execution_count": 16,
   "id": "7d1bab03",
   "metadata": {},
   "outputs": [
    {
     "name": "stdout",
     "output_type": "stream",
     "text": [
      "Help on built-in function count:\n",
      "\n",
      "count(value, /) method of builtins.list instance\n",
      "    Return number of occurrences of value.\n",
      "\n"
     ]
    }
   ],
   "source": [
    "help(list.count)"
   ]
  },
  {
   "cell_type": "code",
   "execution_count": 19,
   "id": "b4d15dba",
   "metadata": {},
   "outputs": [
    {
     "name": "stdout",
     "output_type": "stream",
     "text": [
      "Dhoni appears 1 time\n"
     ]
    }
   ],
   "source": [
    "num=list.count(\"Dhoni\")\n",
    "print(f\"Dhoni appears {num} time\")"
   ]
  },
  {
   "cell_type": "code",
   "execution_count": 20,
   "id": "f47e664b",
   "metadata": {},
   "outputs": [
    {
     "name": "stdout",
     "output_type": "stream",
     "text": [
      "Help on built-in function extend:\n",
      "\n",
      "extend(iterable, /) method of builtins.list instance\n",
      "    Extend list by appending elements from the iterable.\n",
      "\n"
     ]
    }
   ],
   "source": [
    "help(list.extend)"
   ]
  },
  {
   "cell_type": "code",
   "execution_count": 23,
   "id": "2f5ba3a1",
   "metadata": {},
   "outputs": [
    {
     "name": "stdout",
     "output_type": "stream",
     "text": [
      "['Rohit', 'Shikhar', 'Virat', 'KL Rahul', 'Ajinkya', 'Hardik', 'Dhoni', 'Kuldeep', 'Bhuvaneswar', 'Yuzvendra', 'Bumrah', 'Ishant', 'Ishant', 'Sachin', 'Virendra', 'Kapil', 'Rahul', 'Sreesant', 'Sachin', 'Virendra', 'Kapil', 'Rahul', 'Sreesant']\n"
     ]
    }
   ],
   "source": [
    "sublist = [\"Sachin\",\"Virendra\",\"Kapil\",\"Rahul\",\"Sreesant\"]\n",
    "list2.extend(sublist)\n",
    "print(list2)"
   ]
  },
  {
   "cell_type": "code",
   "execution_count": 24,
   "id": "5f5c6abf",
   "metadata": {},
   "outputs": [
    {
     "name": "stdout",
     "output_type": "stream",
     "text": [
      "Help on built-in function index:\n",
      "\n",
      "index(value, start=0, stop=9223372036854775807, /) method of builtins.list instance\n",
      "    Return first index of value.\n",
      "    \n",
      "    Raises ValueError if the value is not present.\n",
      "\n"
     ]
    }
   ],
   "source": [
    "help(list.index)"
   ]
  },
  {
   "cell_type": "code",
   "execution_count": 26,
   "id": "9de0fd44",
   "metadata": {},
   "outputs": [
    {
     "name": "stdout",
     "output_type": "stream",
     "text": [
      "13\n"
     ]
    }
   ],
   "source": [
    "index_num=list2.index(\"Sachin\")\n",
    "print(index_num)"
   ]
  },
  {
   "cell_type": "code",
   "execution_count": 27,
   "id": "0bd5bc35",
   "metadata": {},
   "outputs": [
    {
     "name": "stdout",
     "output_type": "stream",
     "text": [
      "Help on built-in function insert:\n",
      "\n",
      "insert(index, object, /) method of builtins.list instance\n",
      "    Insert object before index.\n",
      "\n"
     ]
    }
   ],
   "source": [
    "help(list.insert)"
   ]
  },
  {
   "cell_type": "code",
   "execution_count": 29,
   "id": "9d3db8ee",
   "metadata": {},
   "outputs": [
    {
     "name": "stdout",
     "output_type": "stream",
     "text": [
      "Help on built-in function pop:\n",
      "\n",
      "pop(index=-1, /) method of builtins.list instance\n",
      "    Remove and return item at index (default last).\n",
      "    \n",
      "    Raises IndexError if list is empty or index is out of range.\n",
      "\n"
     ]
    }
   ],
   "source": [
    "help(list.pop)"
   ]
  },
  {
   "cell_type": "code",
   "execution_count": 39,
   "id": "7e6ab3e5",
   "metadata": {},
   "outputs": [
    {
     "name": "stdout",
     "output_type": "stream",
     "text": [
      "Ishant has been removed\n",
      "['Rohit', 'Shikhar', 'Virat', 'Ajinkya', 'Hardik', 'Dhoni', 'Bhuvaneswar', 'Yuzvendra', 'Bumrah']\n"
     ]
    }
   ],
   "source": [
    "ele=list.pop()\n",
    "print(f\"{ele} has been removed\")\n",
    "print(list)"
   ]
  },
  {
   "cell_type": "code",
   "execution_count": 31,
   "id": "f5b742d8",
   "metadata": {},
   "outputs": [
    {
     "name": "stdout",
     "output_type": "stream",
     "text": [
      "Help on built-in function remove:\n",
      "\n",
      "remove(value, /) method of builtins.list instance\n",
      "    Remove first occurrence of value.\n",
      "    \n",
      "    Raises ValueError if the value is not present.\n",
      "\n"
     ]
    }
   ],
   "source": [
    "help(list.remove)"
   ]
  },
  {
   "cell_type": "code",
   "execution_count": 49,
   "id": "67e9bbbe",
   "metadata": {},
   "outputs": [
    {
     "name": "stdout",
     "output_type": "stream",
     "text": [
      "['Rohit', 'Shikhar', 'Virat', 'Ajinkya', 'Hardik', 'Dhoni', 'Bhuvaneswar', 'Yuzvendra']\n",
      "['Rohit', 'Shikhar', 'Virat', 'Ajinkya', 'Hardik', 'Dhoni', 'Bhuvaneswar']\n"
     ]
    }
   ],
   "source": [
    "print(list)\n",
    "list.remove(\"Yuzvendra\")\n",
    "print(list)"
   ]
  },
  {
   "cell_type": "code",
   "execution_count": 50,
   "id": "fa622001",
   "metadata": {},
   "outputs": [
    {
     "name": "stdout",
     "output_type": "stream",
     "text": [
      "Help on built-in function reverse:\n",
      "\n",
      "reverse() method of builtins.list instance\n",
      "    Reverse *IN PLACE*.\n",
      "\n"
     ]
    }
   ],
   "source": [
    "help(list.reverse)"
   ]
  },
  {
   "cell_type": "code",
   "execution_count": 53,
   "id": "07c78f9e",
   "metadata": {},
   "outputs": [
    {
     "name": "stdout",
     "output_type": "stream",
     "text": [
      "['Bhuvaneswar', 'Dhoni', 'Hardik', 'Ajinkya', 'Virat', 'Shikhar', 'Rohit']\n"
     ]
    }
   ],
   "source": [
    "list.reverse()\n",
    "print(list)"
   ]
  },
  {
   "cell_type": "code",
   "execution_count": 54,
   "id": "73a956e0",
   "metadata": {},
   "outputs": [
    {
     "name": "stdout",
     "output_type": "stream",
     "text": [
      "Help on built-in function sort:\n",
      "\n",
      "sort(*, key=None, reverse=False) method of builtins.list instance\n",
      "    Sort the list in ascending order and return None.\n",
      "    \n",
      "    The sort is in-place (i.e. the list itself is modified) and stable (i.e. the\n",
      "    order of two equal elements is maintained).\n",
      "    \n",
      "    If a key function is given, apply it once to each list item and sort them,\n",
      "    ascending or descending, according to their function values.\n",
      "    \n",
      "    The reverse flag can be set to sort in descending order.\n",
      "\n"
     ]
    }
   ],
   "source": [
    "help(list.sort)"
   ]
  },
  {
   "cell_type": "code",
   "execution_count": 55,
   "id": "43443aa9",
   "metadata": {},
   "outputs": [],
   "source": [
    "list.sort()"
   ]
  },
  {
   "cell_type": "code",
   "execution_count": 56,
   "id": "5bf24b19",
   "metadata": {},
   "outputs": [
    {
     "name": "stdout",
     "output_type": "stream",
     "text": [
      "['Ajinkya', 'Bhuvaneswar', 'Dhoni', 'Hardik', 'Rohit', 'Shikhar', 'Virat']\n"
     ]
    }
   ],
   "source": [
    "print(list)"
   ]
  },
  {
   "cell_type": "code",
   "execution_count": 58,
   "id": "439c92d2",
   "metadata": {},
   "outputs": [
    {
     "name": "stdout",
     "output_type": "stream",
     "text": [
      "Help on built-in function clear:\n",
      "\n",
      "clear() method of builtins.list instance\n",
      "    Remove all items from list.\n",
      "\n"
     ]
    }
   ],
   "source": [
    "help(list.clear)"
   ]
  },
  {
   "cell_type": "code",
   "execution_count": 59,
   "id": "a9f17b80",
   "metadata": {},
   "outputs": [
    {
     "name": "stdout",
     "output_type": "stream",
     "text": [
      "['Sreesant', 'Rahul', 'Kapil', 'Virendra', 'Sachin', 'Sreesant', 'Rahul', 'Kapil', 'Virendra', 'Sachin', 'Ishant', 'Ishant', 'Bumrah', 'Yuzvendra', 'Bhuvaneswar', 'Kuldeep', 'Dhoni', 'Hardik', 'Ajinkya', 'KL Rahul', 'Virat', 'Shikhar', 'Rohit']\n"
     ]
    }
   ],
   "source": [
    "print(list2)"
   ]
  },
  {
   "cell_type": "code",
   "execution_count": 60,
   "id": "8afcd3b5",
   "metadata": {},
   "outputs": [],
   "source": [
    "list2.clear()"
   ]
  },
  {
   "cell_type": "code",
   "execution_count": 61,
   "id": "814e956d",
   "metadata": {},
   "outputs": [
    {
     "name": "stdout",
     "output_type": "stream",
     "text": [
      "[]\n"
     ]
    }
   ],
   "source": [
    "print(list2)"
   ]
  },
  {
   "cell_type": "markdown",
   "id": "854eaa62",
   "metadata": {},
   "source": [
    "**What is difference between ordered data type and unordered data type?**"
   ]
  },
  {
   "cell_type": "markdown",
   "id": "324f9772",
   "metadata": {},
   "source": [
    "Ordered data types are the datatypes in which order of the elements matter while operations are performed or during execution. All the elements in ordered datatypes have a specific index number starting from 0 and they can be accessed from their index number as well.\n",
    "\n",
    "Unordered datatypes do not have a specific order and fixed index number. They can be accessed only by a key (like in dictionary) or by the exact value (like in sets)."
   ]
  },
  {
   "cell_type": "markdown",
   "id": "9e32a620",
   "metadata": {},
   "source": [
    "**Write down types of each value given? (In python)**"
   ]
  },
  {
   "cell_type": "markdown",
   "id": "2bbae6bb",
   "metadata": {},
   "source": [
    "a.100 - int\n",
    "\n",
    "b.105.5 - float\n",
    "\n",
    "c.192.56j - complex\n",
    "\n",
    "d.10+6j - complex\n",
    "\n",
    "e.‘10’ - string\n",
    "\n",
    "f.‘Hello world’ - string\n",
    "\n",
    "g.[ 10, 20, 50, 100] - list\n",
    "\n",
    "h.{‘name’: ‘sachin’, ‘age’: 24, ‘language’: ‘python’} - dictionary"
   ]
  },
  {
   "cell_type": "code",
   "execution_count": 63,
   "id": "996f19cc",
   "metadata": {},
   "outputs": [],
   "source": [
    "a=100\n",
    "b=105.5\n",
    "c=192.56j\n",
    "d=10+6j\n",
    "e= '10'\n",
    "f='Hello world'\n",
    "g=[ 10, 20, 50, 100]\n",
    "h={'name': 'sachin', 'age': 24, 'language': 'python'}"
   ]
  },
  {
   "cell_type": "code",
   "execution_count": 64,
   "id": "9e18145e",
   "metadata": {},
   "outputs": [
    {
     "name": "stdout",
     "output_type": "stream",
     "text": [
      "100 <class 'int'>\n",
      "105.5 <class 'float'>\n",
      "192.56j <class 'complex'>\n",
      "(10+6j) <class 'complex'>\n",
      "10 <class 'str'>\n",
      "Hello world <class 'str'>\n",
      "[10, 20, 50, 100] <class 'list'>\n",
      "{'name': 'sachin', 'age': 24, 'language': 'python'} <class 'dict'>\n"
     ]
    }
   ],
   "source": [
    "print(a,type(a))\n",
    "print(b,type(b))\n",
    "print(c,type(c))\n",
    "print(d,type(d))\n",
    "print(e,type(e))\n",
    "print(f,type(f))\n",
    "print(g,type(g))\n",
    "print(h,type(h))"
   ]
  }
 ],
 "metadata": {
  "kernelspec": {
   "display_name": "Python 3 (ipykernel)",
   "language": "python",
   "name": "python3"
  },
  "language_info": {
   "codemirror_mode": {
    "name": "ipython",
    "version": 3
   },
   "file_extension": ".py",
   "mimetype": "text/x-python",
   "name": "python",
   "nbconvert_exporter": "python",
   "pygments_lexer": "ipython3",
   "version": "3.10.9"
  }
 },
 "nbformat": 4,
 "nbformat_minor": 5
}
