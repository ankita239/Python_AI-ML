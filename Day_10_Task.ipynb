{
 "cells": [
  {
   "cell_type": "markdown",
   "id": "0ec412e5",
   "metadata": {},
   "source": [
    "**Python Program to Check Palindrome Number**"
   ]
  },
  {
   "cell_type": "code",
   "execution_count": 3,
   "id": "a97e5778",
   "metadata": {},
   "outputs": [
    {
     "name": "stdout",
     "output_type": "stream",
     "text": [
      "Enter the number to be checked:565\n",
      "It is a palindrome\n"
     ]
    }
   ],
   "source": [
    "num = int(input(\"Enter the number to be checked:\"))\n",
    "str_num = str(num)\n",
    "reverse = str_num[::-1]\n",
    "if reverse == str_num:\n",
    "    print(\"It is a palindrome\")\n",
    "else:\n",
    "    print(\"It is not a palindrome\")"
   ]
  },
  {
   "cell_type": "markdown",
   "id": "ffe7e5c1",
   "metadata": {},
   "source": [
    "**Python Program to Print all multiples of 3 and 5 in an Interval**"
   ]
  },
  {
   "cell_type": "code",
   "execution_count": 7,
   "id": "002d948e",
   "metadata": {},
   "outputs": [
    {
     "name": "stdout",
     "output_type": "stream",
     "text": [
      "Enter the lower bound of the interval:1\n",
      "Enter the upper bound of the interval:50\n",
      "15\n",
      "30\n",
      "45\n"
     ]
    }
   ],
   "source": [
    "min = int(input(\"Enter the lower bound of the interval:\"))\n",
    "max = int(input(\"Enter the upper bound of the interval:\"))\n",
    "for i in range(min,max+1):\n",
    "    if(i%3 == 0 and i%5 ==0):\n",
    "        print(i)"
   ]
  },
  {
   "cell_type": "markdown",
   "id": "a6818ddc",
   "metadata": {},
   "source": [
    "**Python Program to Find the Factorial of a Number**"
   ]
  },
  {
   "cell_type": "code",
   "execution_count": 10,
   "id": "405ebabf",
   "metadata": {},
   "outputs": [
    {
     "name": "stdout",
     "output_type": "stream",
     "text": [
      "Enter the number to calculate its factorial:5\n",
      "Factorial: 120\n"
     ]
    }
   ],
   "source": [
    "num = int(input(\"Enter the number to calculate its factorial:\"))\n",
    "fact = 1\n",
    "for i in range(1,num+1):\n",
    "    fact = fact*i\n",
    "print(f\"Factorial: {fact}\")"
   ]
  },
  {
   "cell_type": "markdown",
   "id": "4f433f52",
   "metadata": {},
   "source": [
    "**Python Program to Print the Fibonacci sequence**"
   ]
  },
  {
   "cell_type": "code",
   "execution_count": 12,
   "id": "2ca54c84",
   "metadata": {},
   "outputs": [
    {
     "name": "stdout",
     "output_type": "stream",
     "text": [
      "Enter the number till which you want to print the fibonacci series:10\n",
      "0\n",
      "1\n",
      "1\n",
      "2\n",
      "3\n",
      "5\n",
      "8\n",
      "13\n",
      "21\n",
      "34\n",
      "55\n"
     ]
    }
   ],
   "source": [
    "max = int(input(\"Enter the number till which you want to print the fibonacci series:\"))\n",
    "num1 = -1\n",
    "num2 = 1\n",
    "for i in range(0,max+1):\n",
    "    dig = num1+num2\n",
    "    print(dig)\n",
    "    num1 = num2\n",
    "    num2 = dig"
   ]
  },
  {
   "cell_type": "markdown",
   "id": "8669eabb",
   "metadata": {},
   "source": [
    "**Python Program to Check Armstrong Number**"
   ]
  },
  {
   "cell_type": "code",
   "execution_count": 24,
   "id": "bad41bd7",
   "metadata": {},
   "outputs": [
    {
     "name": "stdout",
     "output_type": "stream",
     "text": [
      "Enter a number:153\n",
      "Enter the number of digits:3\n",
      "153 is an armstrong number\n"
     ]
    }
   ],
   "source": [
    "number = int(input(\"Enter a number:\"))\n",
    "numstr = str(number)\n",
    "dig = int(input(\"Enter the number of digits:\"))\n",
    "l = []\n",
    "for i in numstr:\n",
    "    l.append(i)\n",
    "result = 0\n",
    "for i in range(0,dig):\n",
    "    result = result+(int(l[i])**dig)\n",
    "if(result == number):\n",
    "    print(f\"{number} is an armstrong number\")\n",
    "else:\n",
    "     print(f\"{number} is not an armstrong number\")"
   ]
  }
 ],
 "metadata": {
  "kernelspec": {
   "display_name": "Python 3 (ipykernel)",
   "language": "python",
   "name": "python3"
  },
  "language_info": {
   "codemirror_mode": {
    "name": "ipython",
    "version": 3
   },
   "file_extension": ".py",
   "mimetype": "text/x-python",
   "name": "python",
   "nbconvert_exporter": "python",
   "pygments_lexer": "ipython3",
   "version": "3.10.9"
  }
 },
 "nbformat": 4,
 "nbformat_minor": 5
}
