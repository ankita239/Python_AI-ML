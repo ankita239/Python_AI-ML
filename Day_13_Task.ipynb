{
 "cells": [
  {
   "cell_type": "markdown",
   "id": "349a0632",
   "metadata": {},
   "source": [
    "**Write a Python Code to count the Number of Each Vowel in a given string**"
   ]
  },
  {
   "cell_type": "code",
   "execution_count": 8,
   "id": "45f7099b",
   "metadata": {},
   "outputs": [
    {
     "name": "stdout",
     "output_type": "stream",
     "text": [
      "Enter the string:hey there how are you\n",
      "Number of vowels: 8\n"
     ]
    }
   ],
   "source": [
    "l = []\n",
    "string = input(\"Enter the string:\")\n",
    "for char in string:\n",
    "    l.append(char)\n",
    "count = 0\n",
    "for i in range(int(len(l))):\n",
    "    if(l[i] == 'a' or l[i] == 'e'or l[i] == 'i' or l[i] == 'o' or l[i] == 'u' ):\n",
    "        count = count+1\n",
    "print(f\"Number of vowels: {count}\")"
   ]
  },
  {
   "cell_type": "markdown",
   "id": "5914af86",
   "metadata": {},
   "source": [
    "**Write a Python Code to count number of words, characters and number of spaces in a given string**"
   ]
  },
  {
   "cell_type": "code",
   "execution_count": 1,
   "id": "794238e5",
   "metadata": {},
   "outputs": [
    {
     "name": "stdout",
     "output_type": "stream",
     "text": [
      "Enter the string:hey there how are you\n",
      "Words: 5\n",
      "Characters: 17\n",
      "Spaces: 4\n"
     ]
    }
   ],
   "source": [
    "string = input(\"Enter the string:\")\n",
    "l = list(string)\n",
    "spaces = 0\n",
    "characters = 0\n",
    "for char in l:\n",
    "    if char == \" \":\n",
    "        spaces = spaces+1\n",
    "    else:\n",
    "        characters = characters+1\n",
    "words = len(string.split(\" \"))\n",
    "print(f\"Words: {words}\")\n",
    "print(f\"Characters: {characters}\")\n",
    "print(f\"Spaces: {spaces}\")"
   ]
  },
  {
   "cell_type": "markdown",
   "id": "5aee289e",
   "metadata": {},
   "source": [
    "**Write a Python Program to remove punctuation from a given string (using loop)**"
   ]
  },
  {
   "cell_type": "code",
   "execution_count": 11,
   "id": "f7c00aeb",
   "metadata": {},
   "outputs": [
    {
     "name": "stdout",
     "output_type": "stream",
     "text": [
      "Enter the string:hey! how are you?\n",
      "hey how are you\n"
     ]
    }
   ],
   "source": [
    "string = input(\"Enter the string:\")\n",
    "list_ = list(string)\n",
    "new_list = []\n",
    "for char in list_:\n",
    "    if char not in ['!',',','.','?','&']:\n",
    "        new_list.append(char)\n",
    "print(\"\".join(new_list))"
   ]
  },
  {
   "cell_type": "markdown",
   "id": "602808dc",
   "metadata": {},
   "source": [
    "**Write a Python Program to take a mxn matrix input from user and stored in nested list**"
   ]
  },
  {
   "cell_type": "code",
   "execution_count": 17,
   "id": "febebff0",
   "metadata": {},
   "outputs": [
    {
     "name": "stdout",
     "output_type": "stream",
     "text": [
      "Enter the number of rows:3\n",
      " 2\n",
      " 3\n",
      " 5\n",
      " 1\n",
      " 5\n",
      " 0\n",
      " 2\n",
      " 1\n",
      " 4\n",
      "The matrix will look like:\n",
      "[ 2 3 5 ] \n",
      "[ 1 5 0 ] \n",
      "[ 2 1 4 ] \n"
     ]
    }
   ],
   "source": [
    "from pprint import pprint\n",
    "mat = []\n",
    "n = int(input(\"Enter the number of rows:\"))\n",
    "for i in range(n):\n",
    "    row_mat = []\n",
    "    for  j in range(n):\n",
    "        num = int(input(\" \"))\n",
    "        row_mat.append(num)\n",
    "    mat.append(row_mat)\n",
    "print(\"The matrix will look like:\")\n",
    "for i in range(n):\n",
    "    print(\"[\",end=\" \")\n",
    "    for j in range(n):\n",
    "        print(mat[i][j],end=\" \")\n",
    "    print(\"]\",end=\" \")\n",
    "    print()"
   ]
  },
  {
   "cell_type": "markdown",
   "id": "e012617f",
   "metadata": {},
   "source": [
    "**Write a Python Program to add, multiply and transpose two matrices given by user**"
   ]
  },
  {
   "cell_type": "code",
   "execution_count": 3,
   "id": "d3266597",
   "metadata": {},
   "outputs": [
    {
     "name": "stdout",
     "output_type": "stream",
     "text": [
      "Enter the number of rows for both the matrices:2\n",
      "Enter the number of columns for both the matrices:3\n",
      "Element[1][1]:1\n",
      "Element[1][2]:2\n",
      "Element[1][3]:3\n",
      "Element[2][1]:4\n",
      "Element[2][2]:5\n",
      "Element[2][3]:6\n",
      "The first matrix is-\n",
      "[ 1 2 3 ] \n",
      "[ 4 5 6 ] \n",
      "Element[1][1]:9\n",
      "Element[1][2]:8\n",
      "Element[1][3]:7\n",
      "Element[2][1]:6\n",
      "Element[2][2]:5\n",
      "Element[2][3]:4\n",
      "The second matrix is-\n",
      "[ 9 8 7 ] \n",
      "[ 6 5 4 ] \n"
     ]
    }
   ],
   "source": [
    "row = int(input(\"Enter the number of rows for both the matrices:\"))\n",
    "col = int(input(\"Enter the number of columns for both the matrices:\"))\n",
    "mat1 = []\n",
    "mat2 = []\n",
    "for i in range(row):\n",
    "    row_mat1 = []\n",
    "    for j in range(col):\n",
    "        num = int(input(f\"Element[{i+1}][{j+1}]:\"))\n",
    "        row_mat1.append(num)\n",
    "    mat1.append(row_mat1)\n",
    "print(\"The first matrix is-\")\n",
    "for i in range(row):\n",
    "    print(\"[\",end=\" \")\n",
    "    for j in range(col):\n",
    "            print(mat1[i][j],end=\" \")\n",
    "    print(\"]\",end =\" \")\n",
    "    print()\n",
    "for i in range(row):\n",
    "    row_mat2 = []\n",
    "    for j in range(col):\n",
    "        numb = int(input(f\"Element[{i+1}][{j+1}]:\"))\n",
    "        row_mat2.append(numb)\n",
    "    mat2.append(row_mat2)\n",
    "print(\"The second matrix is-\")\n",
    "for i in range(row):\n",
    "    print(\"[\",end=\" \")\n",
    "    for j in range(col):\n",
    "        print(mat2[i][j],end=\" \")\n",
    "    print(\"]\",end=\" \")\n",
    "    print()"
   ]
  },
  {
   "cell_type": "code",
   "execution_count": 5,
   "id": "3647a44f",
   "metadata": {},
   "outputs": [
    {
     "name": "stdout",
     "output_type": "stream",
     "text": [
      "The resultant matrix after addition is-\n",
      "[ 10 10 10 ] \n",
      "[ 10 10 10 ] \n"
     ]
    }
   ],
   "source": [
    "## Adding the matrices\n",
    "add = []\n",
    "for i in range(row):\n",
    "    add_row = []\n",
    "    for j in range(col):\n",
    "        n = mat1[i][j] + mat2[i][j]\n",
    "        add_row.append(n)\n",
    "    add.append(add_row)\n",
    "print(\"The resultant matrix after addition is-\")\n",
    "for i in range(row):\n",
    "    print(\"[\",end=\" \")\n",
    "    for j in range(col):\n",
    "        print(add[i][j],end=\" \")\n",
    "    print(\"]\",end= \" \")\n",
    "    print()\n",
    "    "
   ]
  },
  {
   "cell_type": "code",
   "execution_count": 3,
   "id": "986ee90f",
   "metadata": {},
   "outputs": [
    {
     "name": "stdout",
     "output_type": "stream",
     "text": [
      "Enter the number of rows for the first matrix:2\n",
      "Enter the number of columns for the second matrix:2\n",
      "Enter the number of rows for the first matrix:2\n",
      "Enter the number of columns for the second matrix:2\n",
      "Element[1][1]:1\n",
      "Element[1][2]:2\n",
      "Element[2][1]:3\n",
      "Element[2][2]:4\n",
      "The first matrix is-\n",
      "[ 1 2 ] \n",
      "[ 3 4 ] \n",
      "Element[1][1]:5\n",
      "Element[1][2]:6\n",
      "Element[2][1]:7\n",
      "Element[2][2]:8\n",
      "The second matrix is-\n",
      "[ 5 6 ] \n",
      "[ 7 8 ] \n",
      "The resultant matrix is-\n",
      "[ 19 22 ] \n",
      "[ 43 50 ] \n"
     ]
    }
   ],
   "source": [
    "## Multiplying the matrices\n",
    "row1 = int(input(\"Enter the number of rows for the first matrix:\"))\n",
    "col1 = int(input(\"Enter the number of columns for the second matrix:\"))\n",
    "row2 = int(input(\"Enter the number of rows for the first matrix:\"))\n",
    "col2 = int(input(\"Enter the number of columns for the second matrix:\"))\n",
    "mat1 = []\n",
    "mat2 = []\n",
    "for i in range(row1):\n",
    "    row_mat1 = []\n",
    "    for j in range(col1):\n",
    "        num = int(input(f\"Element[{i+1}][{j+1}]:\"))\n",
    "        row_mat1.append(num)\n",
    "    mat1.append(row_mat1)\n",
    "print(\"The first matrix is-\")\n",
    "for i in range(row1):\n",
    "    print(\"[\",end=\" \")\n",
    "    for j in range(col1):\n",
    "            print(mat1[i][j],end=\" \")\n",
    "    print(\"]\",end =\" \")\n",
    "    print()\n",
    "for i in range(row2):\n",
    "    row_mat2 = []\n",
    "    for j in range(col2):\n",
    "        numb = int(input(f\"Element[{i+1}][{j+1}]:\"))\n",
    "        row_mat2.append(numb)\n",
    "    mat2.append(row_mat2)\n",
    "print(\"The second matrix is-\")\n",
    "for i in range(row2):\n",
    "    print(\"[\",end=\" \")\n",
    "    for j in range(col2):\n",
    "        print(mat2[i][j],end=\" \")\n",
    "    print(\"]\",end=\" \")\n",
    "    print()\n",
    "print(\"The resultant matrix is-\")\n",
    "mul = []\n",
    "for i in range(row1):\n",
    "    mul_row = []\n",
    "    for j in range(col2):\n",
    "        num_ = 0\n",
    "        for k in range(col1):\n",
    "            num_ = num_+(mat1[i][k]*mat2[k][j])\n",
    "        mul_row.append(num_)\n",
    "    mul.append(mul_row)\n",
    "for i in range(row1):\n",
    "    print(\"[\",end=\" \")\n",
    "    for j in range(col2):\n",
    "        print(mul[i][j],end= \" \")\n",
    "    print(\"]\",end=\" \")\n",
    "    print()"
   ]
  },
  {
   "cell_type": "code",
   "execution_count": 7,
   "id": "260b5d56",
   "metadata": {},
   "outputs": [
    {
     "name": "stdout",
     "output_type": "stream",
     "text": [
      "Enter the number of rows for the first matrix:2\n",
      "Enter the number of columns for the first matrix:2\n",
      "Element[1][1]:1\n",
      "Element[1][2]:2\n",
      "Element[2][1]:3\n",
      "Element[2][2]:4\n",
      "The original matrix is-\n",
      "[ 1 2 ] \n",
      "[ 3 4 ] \n",
      "The resultant matrix is-\n",
      "[ 1 3 ] \n",
      "[ 2 4 ] \n"
     ]
    }
   ],
   "source": [
    "## transposing The matrix\n",
    "mat = []\n",
    "row = int(input(\"Enter the number of rows for the first matrix:\"))\n",
    "col = int(input(\"Enter the number of columns for the first matrix:\"))\n",
    "for i in range(row):\n",
    "    row_mat = []\n",
    "    for j in range(col):\n",
    "        num = int(input(f\"Element[{i+1}][{j+1}]:\"))\n",
    "        row_mat.append(num)\n",
    "    mat.append(row_mat)\n",
    "print(\"The original matrix is-\")\n",
    "for i in range(row):\n",
    "    print(\"[\",end= \" \")\n",
    "    for j in range(col):\n",
    "        print(mat[i][j],end=\" \")\n",
    "    print(\"]\",end=\" \")\n",
    "    print()\n",
    "print(\"The resultant matrix is-\")\n",
    "for i in range(col):\n",
    "    print(\"[\",end=\" \")\n",
    "    for j in range(row):\n",
    "        print(mat[j][i],end=\" \")\n",
    "    print(\"]\",end= \" \")\n",
    "    print() "
   ]
  }
 ],
 "metadata": {
  "kernelspec": {
   "display_name": "Python 3 (ipykernel)",
   "language": "python",
   "name": "python3"
  },
  "language_info": {
   "codemirror_mode": {
    "name": "ipython",
    "version": 3
   },
   "file_extension": ".py",
   "mimetype": "text/x-python",
   "name": "python",
   "nbconvert_exporter": "python",
   "pygments_lexer": "ipython3",
   "version": "3.10.9"
  }
 },
 "nbformat": 4,
 "nbformat_minor": 5
}
