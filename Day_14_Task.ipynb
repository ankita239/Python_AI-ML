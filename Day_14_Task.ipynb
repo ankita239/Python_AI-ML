{
 "cells": [
  {
   "cell_type": "markdown",
   "id": "024bd440",
   "metadata": {},
   "source": [
    "**Program to find the sum of digits of a number until the sum is reduced to 1 digit**"
   ]
  },
  {
   "cell_type": "code",
   "execution_count": 1,
   "id": "0542ad19",
   "metadata": {},
   "outputs": [
    {
     "name": "stdout",
     "output_type": "stream",
     "text": [
      "Enter the number:22\n",
      "4\n"
     ]
    }
   ],
   "source": [
    "#Program to find the sum of digits of a number until the sum is reduced to 1 digit\n",
    "num_str = input(\"Enter the number:\")\n",
    "num = int(num_str)\n",
    "while 9 < num:\n",
    "    s_um=0\n",
    "    for char in num_str:\n",
    "        s_um = s_um+int(char)\n",
    "    num = s_um\n",
    "print(num)"
   ]
  },
  {
   "cell_type": "markdown",
   "id": "94392f45",
   "metadata": {},
   "source": [
    "**Program to find LCM and HCF of two numbers**"
   ]
  },
  {
   "cell_type": "code",
   "execution_count": 8,
   "id": "bb799058",
   "metadata": {},
   "outputs": [
    {
     "name": "stdout",
     "output_type": "stream",
     "text": [
      "Enter the first number:12\n",
      "Enter the second number:18\n",
      "HCF:6\n",
      "LCM:36\n"
     ]
    }
   ],
   "source": [
    "num1 = int(input(\"Enter the first number:\"))\n",
    "num2 = int(input(\"Enter the second number:\"))\n",
    "hcf= 1\n",
    "lcm = max(num1,num2)\n",
    "for i in range(2,min(num2,num1)+1):\n",
    "    if(num1%i == 0 and num2%i == 0):\n",
    "        hcf = i\n",
    "print(f\"HCF:{hcf}\")\n",
    "while True:\n",
    "    if(lcm%num1 == 0 and lcm%num2 == 0):\n",
    "        break\n",
    "    lcm = lcm + 1\n",
    "print(f\"LCM:{lcm}\")"
   ]
  },
  {
   "cell_type": "markdown",
   "id": "53e6f663",
   "metadata": {},
   "source": [
    "**Write a program to accept any number n and print the cube of all numbers from 1 to n which are divisible by 3. Rewrite the program using a continue statement.**"
   ]
  },
  {
   "cell_type": "code",
   "execution_count": 10,
   "id": "7b39af63",
   "metadata": {},
   "outputs": [
    {
     "name": "stdout",
     "output_type": "stream",
     "text": [
      "Enter the number upto which you want the series to be printed:20\n",
      "The numbers divisible by 3 are-\n",
      "3\n",
      "6\n",
      "9\n",
      "12\n",
      "15\n",
      "18\n"
     ]
    }
   ],
   "source": [
    "## Without continue\n",
    "\n",
    "n = int(input(\"Enter the number upto which you want the series to be printed:\"))\n",
    "print(\"The numbers divisible by 3 are-\")\n",
    "for i in range(1,n+1):\n",
    "    if (i%3 == 0):\n",
    "        print(i)"
   ]
  },
  {
   "cell_type": "code",
   "execution_count": 11,
   "id": "3addf760",
   "metadata": {},
   "outputs": [
    {
     "name": "stdout",
     "output_type": "stream",
     "text": [
      "Enter the maximum value:20\n",
      "The numbers are-\n",
      "3\n",
      "6\n",
      "9\n",
      "12\n",
      "15\n",
      "18\n"
     ]
    }
   ],
   "source": [
    "## With continue statement\n",
    "n = int(input(\"Enter the maximum value:\"))\n",
    "print(\"The numbers are-\")\n",
    "for i in range(1,n+1):\n",
    "    if(i%3 != 0):\n",
    "        continue\n",
    "    else:\n",
    "        print(i)"
   ]
  },
  {
   "cell_type": "markdown",
   "id": "444483f9",
   "metadata": {},
   "source": [
    "**Write a program to read roll number and marks of 10 students in 3 subjects. The valid range for roll number is 1000-9999, if the roll number entered is not in this range, the user should be asked to enter again. Calculate total marks of only those students who get more than or equal to 40 marks in each subject. Count the number of students whose total is more than 200. Print the roll number of the students who gets the highest total.**"
   ]
  },
  {
   "cell_type": "code",
   "execution_count": 1,
   "id": "5265965c",
   "metadata": {},
   "outputs": [
    {
     "name": "stdout",
     "output_type": "stream",
     "text": [
      "Enter the roll between between 1000-9999:5674\n",
      "Enter marks for subject1:33\n",
      "Enter marks for subject2:66\n",
      "Enter marks for subject3:88\n",
      "Enter the roll between between 1000-9999:5436\n",
      "Enter marks for subject1:77\n",
      "Enter marks for subject2:88\n",
      "Enter marks for subject3:56\n",
      "Enter the roll between between 1000-9999:8646\n",
      "Enter marks for subject1:66\n",
      "Enter marks for subject2:77\n",
      "Enter marks for subject3:76\n",
      "Enter the roll between between 1000-9999:5568\n",
      "Enter marks for subject1:55\n",
      "Enter marks for subject2:77\n",
      "Enter marks for subject3:55\n",
      "Enter the roll between between 1000-9999:5467\n",
      "Enter marks for subject1:77\n",
      "Enter marks for subject2:66\n",
      "Enter marks for subject3:56\n",
      "Enter the roll between between 1000-9999:4675\n",
      "Enter marks for subject1:76\n",
      "Enter marks for subject2:76\n",
      "Enter marks for subject3:78\n",
      "Enter the roll between between 1000-9999:8654\n",
      "Enter marks for subject1:56\n",
      "Enter marks for subject2:89\n",
      "Enter marks for subject3:66\n",
      "Enter the roll between between 1000-9999:5467\n",
      "Enter marks for subject1:57\n",
      "Enter marks for subject2:44\n",
      "Enter marks for subject3:88\n",
      "Enter the roll between between 1000-9999:7546\n",
      "Enter marks for subject1:46\n",
      "Enter marks for subject2:78\n",
      "Enter marks for subject3:76\n",
      "Enter the roll between between 1000-9999:5754\n",
      "Enter marks for subject1:57\n",
      "Enter marks for subject2:88\n",
      "Enter marks for subject3:76\n",
      "Number of students with total more than 200:5\n",
      "Roll number with highest total:4675\n"
     ]
    }
   ],
   "source": [
    "student = []\n",
    "highest_total = 0\n",
    "highest_total_roll = None\n",
    "count_of_total = 0\n",
    "for i in range(10):\n",
    "    while True:\n",
    "        roll=int(input(\"Enter the roll between between 1000-9999:\"))\n",
    "        if(1000<=roll<=9999):\n",
    "            break\n",
    "        else:\n",
    "            print(\"Enter a valid roll!\")\n",
    "    marks = []\n",
    "    for subject in range(3):\n",
    "        marks.append(int(input(f\"Enter marks for subject{subject+1}:\")))\n",
    "    total = sum(marks)\n",
    "    if all(mark>=40 for mark in marks ):\n",
    "        student.append({\"roll\":roll,\"marks\":marks,\"total\":total})\n",
    "        if total > 200:\n",
    "            count_of_total = count_of_total + 1\n",
    "        if total>highest_total:\n",
    "            highest_total = total\n",
    "            highest_total_roll = roll\n",
    "print(f\"Number of students with total more than 200:{count_of_total}\")\n",
    "print(f\"Roll number with highest total:{highest_total_roll}\")"
   ]
  },
  {
   "cell_type": "markdown",
   "id": "e7a3faf5",
   "metadata": {},
   "source": [
    "**Write a program to input a number and count the digits in it. Use while loop and the program should work correctly for 0 also**"
   ]
  },
  {
   "cell_type": "code",
   "execution_count": 8,
   "id": "97878b21",
   "metadata": {},
   "outputs": [
    {
     "name": "stdout",
     "output_type": "stream",
     "text": [
      "Enter the number:1234\n",
      "Number of digits: 4\n"
     ]
    }
   ],
   "source": [
    "num = int(input(\"Enter the number:\"))\n",
    "l = []\n",
    "i = 0\n",
    "while(num!=0):\n",
    "    rem = num%10\n",
    "    l.append(rem)\n",
    "    num = num//10\n",
    "dig = len(l)\n",
    "print(f\"Number of digits: {dig}\")"
   ]
  },
  {
   "cell_type": "markdown",
   "id": "b47c6a20",
   "metadata": {},
   "source": [
    "**Write a program to enter a number and find the reverse of that number. Also display the double of the reverse number. (don’t use string magic)**"
   ]
  },
  {
   "cell_type": "code",
   "execution_count": 17,
   "id": "61efe73f",
   "metadata": {},
   "outputs": [
    {
     "name": "stdout",
     "output_type": "stream",
     "text": [
      "Enter the number to be reversed:1234\n",
      "4321\n"
     ]
    }
   ],
   "source": [
    "num_str = input(\"Enter the number to be reversed:\")\n",
    "num = int(num_str)\n",
    "rev = \"\"\n",
    "for i in range(len(num_str)):\n",
    "    rev = rev+str(num%10)\n",
    "    num = num//10\n",
    "print(rev)"
   ]
  }
 ],
 "metadata": {
  "kernelspec": {
   "display_name": "Python 3 (ipykernel)",
   "language": "python",
   "name": "python3"
  },
  "language_info": {
   "codemirror_mode": {
    "name": "ipython",
    "version": 3
   },
   "file_extension": ".py",
   "mimetype": "text/x-python",
   "name": "python",
   "nbconvert_exporter": "python",
   "pygments_lexer": "ipython3",
   "version": "3.10.9"
  }
 },
 "nbformat": 4,
 "nbformat_minor": 5
}
